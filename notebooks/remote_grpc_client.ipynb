{
 "cells": [
  {
   "cell_type": "markdown",
   "metadata": {},
   "source": [
    "# Remote gRPC agents - client\n",
    "\n",
    "This notebook is a client for the remote agents host in the `remote_grpc` notebook.\n",
    "\n",
    "Please refer to the `remote` notebook for further details about remote agents."
   ]
  },
  {
   "cell_type": "code",
   "execution_count": null,
   "metadata": {},
   "outputs": [],
   "source": [
    "%load_ext autoreload\n",
    "%autoreload 2"
   ]
  },
  {
   "cell_type": "code",
   "execution_count": null,
   "metadata": {},
   "outputs": [],
   "source": [
    "# Add the parent directory to sys.path\n",
    "import sys, os\n",
    "sys.path.append(os.path.abspath(os.path.join('../vanilla_aiagents')))\n",
    "\n",
    "from vanilla_aiagents.agent import Agent\n",
    "from vanilla_aiagents.workflow import Workflow, Conversation\n",
    "from vanilla_aiagents.llm import AzureOpenAILLM\n",
    "from vanilla_aiagents.remote.remote import RemoteAskable\n",
    "from vanilla_aiagents.remote.grpc import GRPCConnection\n",
    "from dotenv import load_dotenv\n",
    "\n",
    "load_dotenv(override=True)"
   ]
  },
  {
   "cell_type": "code",
   "execution_count": null,
   "metadata": {},
   "outputs": [],
   "source": [
    "llm = AzureOpenAILLM({\n",
    "    \"azure_deployment\": os.getenv(\"AZURE_OPENAI_MODEL\"),\n",
    "    \"azure_endpoint\": os.getenv(\"AZURE_OPENAI_ENDPOINT\"),\n",
    "    \"api_key\": os.getenv(\"AZURE_OPENAI_KEY\"),\n",
    "    \"api_version\": os.getenv(\"AZURE_OPENAI_API_VERSION\"),\n",
    "})\n",
    "\n",
    "# Set logging to debug for Agent, User and Workflow\n",
    "import logging\n",
    "\n",
    "# Set logging to debug for Agent, User, and Workflow\n",
    "logging.basicConfig(level=logging.INFO)\n",
    "logging.getLogger(\"vanilla_aiagents.agent\").setLevel(logging.DEBUG)\n",
    "logging.getLogger(\"vanilla_aiagents.workflow\").setLevel(logging.DEBUG)\n",
    "logging.getLogger(\"vanilla_aiagents.llm\").setLevel(logging.DEBUG)\n",
    "logging.getLogger(\"vanilla_aiagents.remote.grpc\").setLevel(logging.DEBUG)"
   ]
  },
  {
   "cell_type": "code",
   "execution_count": null,
   "metadata": {},
   "outputs": [],
   "source": [
    "# NOTE url format is \"host:port\", without the \"http://\" prefix\n",
    "connection = GRPCConnection(url=\"localhost:5002\")\n",
    "remote = RemoteAskable(id=\"agent1\", connection=connection)\n",
    "flow = Workflow(askable=remote, conversation=Conversation())"
   ]
  },
  {
   "cell_type": "code",
   "execution_count": null,
   "metadata": {},
   "outputs": [],
   "source": [
    "flow.restart()\n",
    "\n",
    "for message in flow.run_stream(\"Which is the capital of France?\"):\n",
    "    print(message)"
   ]
  }
 ],
 "metadata": {
  "kernelspec": {
   "display_name": ".conda",
   "language": "python",
   "name": "python3"
  },
  "language_info": {
   "codemirror_mode": {
    "name": "ipython",
    "version": 3
   },
   "file_extension": ".py",
   "mimetype": "text/x-python",
   "name": "python",
   "nbconvert_exporter": "python",
   "pygments_lexer": "ipython3",
   "version": "3.11.9"
  }
 },
 "nbformat": 4,
 "nbformat_minor": 2
}

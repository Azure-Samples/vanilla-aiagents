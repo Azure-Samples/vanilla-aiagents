{
 "cells": [
  {
   "cell_type": "markdown",
   "metadata": {},
   "source": [
    "# Planned Team\n",
    "\n",
    "Unlike other `Team` examples, where the `Agent` selection is performed at ever round of the conversation, this one does not follow a provided structure, nor it lets agents to play against each other. Instead, it will initially define a plan based on the available agents and initial inquiry, to then follow it sequentially."
   ]
  },
  {
   "cell_type": "code",
   "execution_count": null,
   "metadata": {},
   "outputs": [],
   "source": [
    "%load_ext autoreload\n",
    "%autoreload 2"
   ]
  },
  {
   "cell_type": "code",
   "execution_count": 12,
   "metadata": {},
   "outputs": [],
   "source": [
    "# Add the parent directory to sys.path\n",
    "import sys, os\n",
    "sys.path.append(os.path.abspath(os.path.join('../vanilla_aiagents')))\n",
    "\n",
    "from vanilla_aiagents.agent import Agent\n",
    "from vanilla_aiagents.llm import AzureOpenAILLM\n",
    "from vanilla_aiagents.workflow import Workflow\n",
    "from vanilla_aiagents.planned_team import PlannedTeam\n",
    "from dotenv import load_dotenv\n",
    "\n",
    "load_dotenv(override=True)\n",
    "import os"
   ]
  },
  {
   "cell_type": "code",
   "execution_count": null,
   "metadata": {},
   "outputs": [],
   "source": [
    "llm = AzureOpenAILLM({\n",
    "    \"azure_deployment\": os.getenv(\"AZURE_OPENAI_MODEL\"),\n",
    "    \"azure_endpoint\": os.getenv(\"AZURE_OPENAI_ENDPOINT\"),\n",
    "    \"api_key\": os.getenv(\"AZURE_OPENAI_KEY\"),\n",
    "    \"api_version\": os.getenv(\"AZURE_OPENAI_API_VERSION\"),\n",
    "})\n",
    "\n",
    "# Set logging to debug for Agent, User and Workflow\n",
    "import logging\n",
    "\n",
    "# Set logging to debug for Agent, User, and Workflow\n",
    "logging.basicConfig(level=logging.INFO)\n",
    "logging.getLogger(\"vanilla_aiagents.agent\").setLevel(logging.DEBUG)\n",
    "logging.getLogger(\"vanilla_aiagents.user\").setLevel(logging.DEBUG)\n",
    "logging.getLogger(\"vanilla_aiagents.workflow\").setLevel(logging.DEBUG)"
   ]
  },
  {
   "cell_type": "code",
   "execution_count": null,
   "metadata": {},
   "outputs": [],
   "source": [
    "collector = Agent(id=\"datacollector\", llm=llm, description=\"Call this agent to collect data for an insurance claim\", system_message = \"\"\"You are part of an AI process\n",
    "        Your task is to collect key information for an insurance claim to be processed.\n",
    "        You need to collect the following information:\n",
    "        - Policy number\n",
    "        - Claimant name\n",
    "        - Date of incident\n",
    "        - Description of incident\n",
    "        - Reimbursement amount\n",
    "        \n",
    "        Output must be in JSON format:\n",
    "        {\n",
    "            \"policy_number\": \"123456\",\n",
    "            \"claimant_name\": \"John Doe\",\n",
    "            \"date_of_incident\": \"2022-01-01\",\n",
    "            \"description_of_incident\": \"Car accident on Maple Avenue\",\n",
    "            \"incident_kind\": \"car accident\",\n",
    "            \"reimbursement_amount\": 1000\n",
    "        }\n",
    "        \"\"\")\n",
    "\n",
    "        \n",
    "approver = Agent(id=\"approver\", llm=llm, description=\"Call this agent to approve the claim\", system_message = \"\"\"You are part of an AI process\n",
    "Your task is to review the information collected for an insurance claim.\n",
    "Approval is subject to the following criteria:\n",
    "- If the description refers to a car accident\n",
    "    - approve the claim if the reimbursement amount is less than 1000 USD\n",
    "    - reject the claim if the reimbursement amount is 1000 USD or more\n",
    "- If the description refers to a house fire\n",
    "    - approve the claim if the reimbursement amount is less than 5000 USD\n",
    "    - reject the claim if the reimbursement amount is 5000 USD or more\n",
    "\"\"\")\n",
    "\n",
    "responder = Agent(id=\"responder\", llm=llm, description=\"Call this agent to respond to the claim\", system_message = \"\"\"You are part of an AI process\n",
    "Your task is to respond to the claimant based on the approval decision.\n",
    "If the claim is approved, respond with \"Your claim has been approved\".\n",
    "If the claim is rejected, respond with \"Your claim has been rejected\". Provide a reason for the rejection.\n",
    "\"\"\")"
   ]
  },
  {
   "cell_type": "code",
   "execution_count": null,
   "metadata": {},
   "outputs": [],
   "source": [
    "from vanilla_aiagents.conversation import SummarizeMessagesStrategy\n",
    "flow = PlannedTeam(id=\"flow\", description=\"\", \n",
    "        members=[collector, approver, responder], \n",
    "        llm=llm, \n",
    "        stop_callback=lambda msgs: len(msgs) > 6, \n",
    "        fork_conversation=True,\n",
    "        fork_strategy=SummarizeMessagesStrategy(llm, \"Summarize the conversation, provide a list of key information, decisions taken and eventual outcomes.\"))\n",
    "workflow = Workflow(askable=flow)"
   ]
  },
  {
   "cell_type": "code",
   "execution_count": null,
   "metadata": {},
   "outputs": [],
   "source": [
    "ticket= \"\"\"\n",
    "From: Alice Thompson <a_thompson@foo.com>\n",
    "To: Contoso Insurance Team <report@contoso-insurancec.com>\n",
    "Subject: URGENT: Car Accident Claim - Immediate Assistance Required\n",
    "\n",
    "Dear Contoso Insurance Team,\n",
    "\n",
    "I hope this email finds you well. I am writing to you with a heavy heart and a great deal of stress regarding an unfortunate incident that occurred earlier today. I was involved in a car accident and I am seeking immediate assistance to file a claim and get the support I need during this challenging time.\n",
    "\n",
    "Here's what happened: I was driving home from work, heading south on Maple Avenue, when out of nowhere, another vehicle came speeding through a red light at the intersection of Maple and Oak Street. I had no time to react, and the other car crashed into the passenger side of my vehicle with considerable force. The impact was severe, and both cars were significantly damaged. My car, a 2018 Toyota Camry, has extensive damage to the passenger side, and I believe it may not be drivable at this point.\n",
    "\n",
    "Thankfully, I did not sustain any major injuries, but I am feeling quite shaken up and have some minor bruises. The other driver appeared to be unharmed as well, but their car, a silver Honda Civic, was also badly damaged. We exchanged contact and insurance information at the scene, and I made sure to take photos of the damage to both vehicles for documentation purposes.\n",
    "\n",
    "The accident was promptly reported to the local authorities, and a police report was filed. I have attached a copy of the police report, along with the photos I took, for your reference. Additionally, I have provided my insurance policy number and other relevant details below to expedite the process.\n",
    "\n",
    "Policy Number: 2021-123456789\n",
    "Date of Accident: Monday, August 23, 2024\n",
    "Location: Intersection of Maple Avenue and Oak Street\n",
    "Vehicle Involved: 2018 Toyota Camry (License Plate: AAA-1234)\n",
    "Other Party Involved: Silver Honda Civic (License Plate: ZZZ-5678)\n",
    "\n",
    "I am deeply concerned about the repair costs ($ 1000) and the potential need for a rental car while my vehicle is being repaired. I would greatly appreciate it if you could guide me through the next steps and let me know what information or documentation you require from my end to process the claim efficiently.\n",
    "\n",
    "This is a very distressing situation for me, and I am relying on your prompt assistance and expertise to help me navigate this process. Please let me know if there are any forms I need to fill out or additional information I need to provide.\n",
    "\n",
    "Thank you in advance for your understanding and support during this difficult time. I look forward to hearing from you soon and hope for a swift resolution to my claim.\n",
    "\n",
    "Warm regards,\n",
    "\n",
    "Alice Thompson\n",
    "\"\"\""
   ]
  },
  {
   "cell_type": "code",
   "execution_count": null,
   "metadata": {},
   "outputs": [],
   "source": [
    "workflow.restart()\n",
    "workflow.run(ticket)"
   ]
  },
  {
   "cell_type": "code",
   "execution_count": null,
   "metadata": {},
   "outputs": [],
   "source": [
    "workflow.conversation.messages[-1]"
   ]
  }
 ],
 "metadata": {
  "kernelspec": {
   "display_name": ".conda",
   "language": "python",
   "name": "python3"
  },
  "language_info": {
   "codemirror_mode": {
    "name": "ipython",
    "version": 3
   },
   "file_extension": ".py",
   "mimetype": "text/x-python",
   "name": "python",
   "nbconvert_exporter": "python",
   "pygments_lexer": "ipython3",
   "version": "3.11.9"
  }
 },
 "nbformat": 4,
 "nbformat_minor": 2
}

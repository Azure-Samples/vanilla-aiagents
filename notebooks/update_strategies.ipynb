{
 "cells": [
  {
   "cell_type": "code",
   "execution_count": 1,
   "metadata": {},
   "outputs": [],
   "source": [
    "#%pip install openai python-dotenv\n",
    "%load_ext autoreload\n",
    "%autoreload 2"
   ]
  },
  {
   "cell_type": "code",
   "execution_count": 2,
   "metadata": {},
   "outputs": [
    {
     "data": {
      "text/plain": [
       "True"
      ]
     },
     "execution_count": 2,
     "metadata": {},
     "output_type": "execute_result"
    }
   ],
   "source": [
    "# Add the parent directory to sys.path\n",
    "import sys, os\n",
    "sys.path.append(os.path.abspath(os.path.join('../vanilla_aiagents')))\n",
    "\n",
    "from vanilla_aiagents.agent import Agent\n",
    "from vanilla_aiagents.workflow import Workflow\n",
    "from vanilla_aiagents.team import Team\n",
    "from vanilla_aiagents.user import User\n",
    "from vanilla_aiagents.llm import AzureOpenAILLM\n",
    "from dotenv import load_dotenv\n",
    "\n",
    "load_dotenv(override=True)"
   ]
  },
  {
   "cell_type": "code",
   "execution_count": 3,
   "metadata": {},
   "outputs": [],
   "source": [
    "llm = AzureOpenAILLM({\n",
    "    \"azure_deployment\": os.getenv(\"AZURE_OPENAI_MODEL\"),\n",
    "    \"azure_endpoint\": os.getenv(\"AZURE_OPENAI_ENDPOINT\"),\n",
    "    \"api_key\": os.getenv(\"AZURE_OPENAI_KEY\"),\n",
    "    \"api_version\": os.getenv(\"AZURE_OPENAI_API_VERSION\"),\n",
    "})\n",
    "\n",
    "# Set logging to debug for Agent, User and Workflow\n",
    "import logging\n",
    "\n",
    "# Set logging to debug for Agent, User, and Workflow\n",
    "logging.basicConfig(level=logging.INFO)\n",
    "logging.getLogger(\"vanilla_aiagents.agent\").setLevel(logging.DEBUG)\n",
    "logging.getLogger(\"vanilla_aiagents.workflow\").setLevel(logging.DEBUG)\n",
    "logging.getLogger(\"vanilla_aiagents.conversation\").setLevel(logging.DEBUG)\n",
    "logging.getLogger(\"vanilla_aiagents.llm\").setLevel(logging.DEBUG)"
   ]
  },
  {
   "cell_type": "code",
   "execution_count": null,
   "metadata": {},
   "outputs": [
    {
     "name": "stderr",
     "output_type": "stream",
     "text": [
      "DEBUG:vanilla_aiagents.agent:Agent initialized with ID: test-agent, Description: Test Agent\n",
      "DEBUG:vanilla_aiagents.agent:[Agent ID: test-agent] Received messages: [{'role': 'assistant', 'content': 'This will not be replaced'}]\n",
      "DEBUG:vanilla_aiagents.agent:[Agent ID: test-agent] Local messages prepared for API call (last 3): [{'role': 'system', 'content': \"Simply say 'hello'\"}, {'role': 'assistant', 'content': 'This will not be replaced'}]\n",
      "INFO:httpx:HTTP Request: POST https://ricchi-oai-sw.openai.azure.com//openai/deployments/gpt-4o/chat/completions?api-version=2024-08-01-preview \"HTTP/1.1 200 OK\"\n",
      "DEBUG:vanilla_aiagents.llm:Response message: ChatCompletionMessage(content='Hello', refusal=None, role='assistant', audio=None, function_call=None, tool_calls=None)\n",
      "DEBUG:vanilla_aiagents.llm:Final response message: ChatCompletionMessage(content='Hello', refusal=None, role='assistant', audio=None, function_call=None, tool_calls=None)\n",
      "DEBUG:vanilla_aiagents.agent:[Agent ID: test-agent] API response received: ChatCompletionMessage(content='Hello', refusal=None, role='assistant', audio=None, function_call=None, tool_calls=None)\n",
      "DEBUG:vanilla_aiagents.agent:[Agent ID: test-agent] Response message: {'content': 'Hello', 'refusal': None, 'role': 'assistant', 'audio': None, 'function_call': None, 'tool_calls': None, 'name': 'test-agent'}\n"
     ]
    },
    {
     "data": {
      "text/plain": [
       "'done'"
      ]
     },
     "execution_count": 15,
     "metadata": {},
     "output_type": "execute_result"
    }
   ],
   "source": [
    "from vanilla_aiagents.conversation import ReplaceLastMessageUpdateStrategy, NoopUpdateStrategy, Conversation\n",
    "agent = Agent(id=\"test-agent\", description=\"Test Agent\", system_message=\"Simply say 'hello'\", llm=llm, update_strategy=ReplaceLastMessageUpdateStrategy())\n",
    "        \n",
    "conversation = Conversation(messages=[], variables={})\n",
    "conversation.messages.append({\"role\": \"assistant\", \"content\": \"This will not be replaced\"})\n",
    "agent.ask(conversation)"
   ]
  },
  {
   "cell_type": "code",
   "execution_count": 16,
   "metadata": {},
   "outputs": [
    {
     "data": {
      "text/plain": [
       "[{'content': 'Hello',\n",
       "  'refusal': None,\n",
       "  'role': 'assistant',\n",
       "  'audio': None,\n",
       "  'function_call': None,\n",
       "  'tool_calls': None,\n",
       "  'name': 'test-agent'}]"
      ]
     },
     "execution_count": 16,
     "metadata": {},
     "output_type": "execute_result"
    }
   ],
   "source": [
    "conversation.messages"
   ]
  },
  {
   "cell_type": "code",
   "execution_count": 12,
   "metadata": {},
   "outputs": [
    {
     "data": {
      "text/plain": [
       "['b']"
      ]
     },
     "execution_count": 12,
     "metadata": {},
     "output_type": "execute_result"
    }
   ],
   "source": [
    "list = [\"a\"]\n",
    "list[-1] = \"b\"\n",
    "list"
   ]
  }
 ],
 "metadata": {
  "kernelspec": {
   "display_name": ".conda",
   "language": "python",
   "name": "python3"
  },
  "language_info": {
   "codemirror_mode": {
    "name": "ipython",
    "version": 3
   },
   "file_extension": ".py",
   "mimetype": "text/x-python",
   "name": "python",
   "nbconvert_exporter": "python",
   "pygments_lexer": "ipython3",
   "version": "3.11.9"
  }
 },
 "nbformat": 4,
 "nbformat_minor": 2
}

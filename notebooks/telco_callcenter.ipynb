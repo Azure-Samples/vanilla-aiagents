{
 "cells": [
  {
   "cell_type": "markdown",
   "metadata": {},
   "source": [
    "# Real-world example: TelCo Call Center\n",
    "\n",
    "This large notebook demonstrates how to apply this framework for build a real-world example: a call center for a telecommunications company. The core idea is to support users in their requests, such as:\n",
    "\n",
    "- **Technical support**: users can call to ask for help with their internet connection, devices, or mobile.\n",
    "- **Sales**: users can call to ask for new services, plans, or promotions.\n",
    "- **Legal**: users can call to ask for information about their contracts, bills, or legal rights.\n",
    "\n",
    "**NOTE**: an Azure AI Search instance is required to run the \"Legal\" agent, which performs RAG. A basic setup via [\"Import and vectorize your data\"](https://learn.microsoft.com/en-us/azure/search/search-get-started-portal-import-vectors?tabs=sample-data-storage%2Cmodel-aoai%2Cconnect-data-storage) and a sample guidelines file is enough.\n",
    "\n",
    "If you want to skip this setup, either comment our the \"Legal\" agent or use the `telco_callcenter_sequence` notebook instead.\n"
   ]
  },
  {
   "cell_type": "code",
   "execution_count": null,
   "metadata": {},
   "outputs": [],
   "source": [
    "%load_ext autoreload\n",
    "%autoreload 2"
   ]
  },
  {
   "cell_type": "code",
   "execution_count": 61,
   "metadata": {},
   "outputs": [],
   "source": [
    "# Add the parent directory to sys.path\n",
    "import sys, os\n",
    "sys.path.append(os.path.abspath(os.path.join('../vanilla_aiagents')))\n",
    "\n",
    "from vanilla_aiagents.agent import Agent\n",
    "from vanilla_aiagents.user import User\n",
    "from vanilla_aiagents.workflow import Workflow\n",
    "from vanilla_aiagents.team import Team\n",
    "from vanilla_aiagents.llm import AzureOpenAILLM\n",
    "from dotenv import load_dotenv\n",
    "\n",
    "load_dotenv(override=True)\n",
    "import os"
   ]
  },
  {
   "cell_type": "code",
   "execution_count": null,
   "metadata": {},
   "outputs": [],
   "source": [
    "llm = AzureOpenAILLM({\n",
    "    \"azure_deployment\": os.getenv(\"AZURE_OPENAI_MODEL\"),\n",
    "    \"azure_endpoint\": os.getenv(\"AZURE_OPENAI_ENDPOINT\"),\n",
    "    \"api_key\": os.getenv(\"AZURE_OPENAI_KEY\"),\n",
    "    \"api_version\": os.getenv(\"AZURE_OPENAI_API_VERSION\"),\n",
    "})\n",
    "\n",
    "# Set logging to debug for Agent, User and Workflow\n",
    "import logging\n",
    "\n",
    "# Set logging to debug for Agent, User, and Workflow\n",
    "logging.basicConfig(level=logging.INFO)\n",
    "logging.getLogger(\"vanilla_aiagents.agent\").setLevel(logging.DEBUG)\n",
    "logging.getLogger(\"vanilla_aiagents.user\").setLevel(logging.DEBUG)\n",
    "logging.getLogger(\"vanilla_aiagents.workflow\").setLevel(logging.DEBUG)"
   ]
  },
  {
   "cell_type": "code",
   "execution_count": 63,
   "metadata": {},
   "outputs": [],
   "source": [
    "user = User(mode=\"unattended\", description = \"An interface to a human participant. Call this agent to get inputs from the user and proceed with the workflow.\")"
   ]
  },
  {
   "cell_type": "code",
   "execution_count": null,
   "metadata": {},
   "outputs": [],
   "source": [
    "greeter = Agent(description=\"A greeter agent, to say hello and welcome to the user\", id=\"greeter\", llm=llm, system_message=\"\"\"\n",
    "You are a call center operator that responds to customer inquiries. \n",
    "    \n",
    "    Your task are:\n",
    "    - Greet the Customer at first. Be sure to ask how you can help.\n",
    "    - Check if the Customer has any additional questions. If not, close the conversation.\n",
    "    - Close the conversation after the Customer's request has been resolved. Thank the Customer for their time and wish them a good day and write TERMINATE to end the conversation. DO write TERMINATE in the response.\n",
    "    \n",
    "    IMPORTANT NOTES:\n",
    "    - Make sure to act politely and professionally.    \n",
    "    - Make sure to write TERMINATE to end the conversation.    \n",
    "    - NEVER pretend to act on behalf of the company. NEVER provide false information.\n",
    " \"\"\")"
   ]
  },
  {
   "cell_type": "code",
   "execution_count": null,
   "metadata": {},
   "outputs": [],
   "source": [
    "sales = Agent(description=\"A sales agent that can answer sales questions\", id=\"sales\",llm=llm, system_message=\"\"\"\n",
    "You are a sales person that responds to customer inquiries.\n",
    "    \n",
    "    You have access to pricing and product details in the PRODUCTS sections below. Please note field starting with \"_\" are not to be shared with the Customer.\n",
    "    \n",
    "    Your tasks are:\n",
    "    - provide the Customer with the information they need. Try to be specific and provide the customer only options that fit their needs.\n",
    "    \n",
    "    IMPORTANT NOTES:\n",
    "    - DO act politely and professionally\n",
    "    - NEVER provide false information\n",
    "    \n",
    "    ### PRODUCTS\n",
    "    - Mobile Internet\n",
    "        - Description: Mobile WiFi for you to take anywhere, supports up to 10 devices.\n",
    "        - Price: €10/month\n",
    "        - Details: 10GB data included, €1/GB after that.\n",
    "        - _SKU: INET_MOBILE\n",
    "    - All-in-One Bundle\n",
    "        - Description: Mobile internet and home internet in one package.\n",
    "        - Price: €45/month\n",
    "        - Details: 10GB mobile data, €1/GB after that. Home internet included.\n",
    "        - _SKU: INET_BUNDLE\n",
    "    - Home Internet\n",
    "        - Description: High-speed internet for your home.\n",
    "        - Price: €30/month\n",
    "        - Details: Unlimited data at 1Gbps.\n",
    "        - _SKU: INET_HOME\"\"\")"
   ]
  },
  {
   "cell_type": "code",
   "execution_count": null,
   "metadata": {},
   "outputs": [],
   "source": [
    "from typing_extensions import Annotated\n",
    "from azure.search.documents import SearchClient\n",
    "from azure.search.documents.models import VectorizableTextQuery\n",
    "from azure.identity import DefaultAzureCredential\n",
    "from azure.core.credentials import AzureKeyCredential\n",
    "\n",
    "key = os.getenv(\"AZURE_SEARCH_ADMIN_KEY\")\n",
    "credential = DefaultAzureCredential() if key is None or key == \"\" else AzureKeyCredential(key)\n",
    "search_client = SearchClient(\n",
    "    endpoint=os.getenv(\"AZURE_SEARCH_ENDPOINT\"),\n",
    "    index_name=os.getenv(\"AZURE_SEARCH_INDEX\"),\n",
    "    credential=credential\n",
    ")\n",
    "\n",
    "\n",
    "legal = Agent(description=\"A legal agent that can answer legal or contractual questions\", id=\"legal\", llm=llm, system_message=\"\"\"\n",
    "You are a legal advisor that responds to customer inquiries.\n",
    "Your tasks are:\n",
    "- provide the Customer with the information they need\n",
    "- ALWAYS look up information in the legal database before answering\n",
    "- be specific and provide the customer only options that fit their needs\n",
    "- ALWAYS include the source of your information in your response\n",
    "\n",
    "IMPORTANT NOTES:\n",
    "Make sure to act politely and professionally.   \n",
    "NEVER provide false information\n",
    "Make sure to read the instructions above again before answering\n",
    "\"\"\")\n",
    "\n",
    "@legal.register_tool(description=\"Query the legal database\")\n",
    "def query_legal_database(query: Annotated[str, \"The query to search for in the legal database\"]) -> Annotated[str, \"Relevant documentation from the legal database\"]:\n",
    "    vector_query = VectorizableTextQuery(text=query, k_nearest_neighbors=1, fields=\"text_vector\", exhaustive=True)\n",
    "    search_results = search_client.search(\n",
    "        search_text=query,  \n",
    "        vector_queries= [vector_query],\n",
    "        select=[\"title\", \"chunk_id\", \"chunk\"],\n",
    "        top=5\n",
    "    )\n",
    "    \n",
    "    # Chunk id has format {parent_id}_pages_{page_number}\n",
    "    \n",
    "    sources_formatted = \"\\n\".join([f'# Source \"{document[\"title\"]}\" - Page {document[\"chunk_id\"].split(\"_\")[-1]}\\n{document[\"chunk\"]}' for document in search_results])\n",
    "    \n",
    "    return sources_formatted\n",
    "    "
   ]
  },
  {
   "cell_type": "code",
   "execution_count": null,
   "metadata": {},
   "outputs": [],
   "source": [
    "from typing_extensions import Annotated\n",
    "\n",
    "\n",
    "technical = Agent(description=\"A technical support agent that can answer technical questions\", id=\"legal\", llm=llm, system_message=\"\"\"You are a technical support agent that responds to customer inquiries.\n",
    "    \n",
    "    Your task are:\n",
    "    - Assess the technical issue the customer is facing.\n",
    "    - Verify if there any known issues with the service the customer is using.\n",
    "    - Check remote telemetry data to identify potential issues with customer's device. Be sure to ask customer code first.\n",
    "    - Provide the customer with possible solutions to the issue. See the list of common issues below.\n",
    "    - When the service status is OK, reply the customer and suggest to restart the device.\n",
    "    - When the service status is DEGRADED, apologize to the customer and kindly ask them to wait for the issue to be resolved.\n",
    "    - Open an internal ticket if the issue cannot be resolved immediately.\n",
    "    \n",
    "    Make sure to act politely and professionally.    \n",
    "    \n",
    "    ### Common issues and solutions:\n",
    "\n",
    "    - Home Internet:\n",
    "        - Issue: No internet connection.\n",
    "        - Solutions: \n",
    "            - Check the router's power supply and cables.\n",
    "            - Restart the router.\n",
    "            - Check the internet connection status LED on the router.\n",
    "    - Mobile Internet:\n",
    "        - Issue: Slow internet connection or no connection.\n",
    "        - Solutions:\n",
    "            - Check the signal strength on the device.\n",
    "            - Restart the device.\n",
    "            - Check the data usage on the device.\n",
    "            - Suggest the customer to purchase additional data when the limit is reached.\n",
    "    - All-in-One Bundle:\n",
    "        USE a combination of the solutions for Home Internet and Mobile Internet.\n",
    "    \n",
    "    \"\"\")\n",
    "\n",
    "@technical.register_tool(description=\"Get the service status\")\n",
    "def get_service_status(\n",
    "    service_sku: Annotated[str, \"The SKU of the service to check status for\"]\n",
    "    ) -> Annotated[str, \"Status of the specified service\"]:\n",
    "        \n",
    "    return \"Service degraded\"\n",
    "\n",
    "@technical.register_tool(description=\"Get the service status\")\n",
    "def check_customer_telemetry(\n",
    "    service_sku: Annotated[str, \"The SKU of the service to check status for, values can be INET_MOBILE, INET_BUNDLE, INET_HOME\"],\n",
    "    customerCode: Annotated[str, \"The customer code to check telemetry for\"]\n",
    "    ) -> Annotated[str, \"Telemetry summary for the specified customer\"]:\n",
    "            \n",
    "    return \"No issues detected\""
   ]
  },
  {
   "cell_type": "code",
   "execution_count": null,
   "metadata": {},
   "outputs": [],
   "source": [
    "team = Team(id=\"team\", description=\"\", members=[user, greeter, sales, technical, legal], llm=llm, stop_callback=lambda msgs: len(msgs) > 6)\n",
    "workflow = Workflow(askable=team)"
   ]
  },
  {
   "cell_type": "code",
   "execution_count": null,
   "metadata": {},
   "outputs": [],
   "source": [
    "workflow.restart()\n",
    "workflow.run(\"Hi\")\n",
    "workflow.conversation.messages[-1]"
   ]
  },
  {
   "cell_type": "code",
   "execution_count": null,
   "metadata": {},
   "outputs": [],
   "source": [
    "# workflow.run(\"I would like to know more about the All-in-One Bundle\", restart=False)\n",
    "workflow.run(\"I have problems with my home internet\")\n",
    "# workflow.run(\"I want to pay invoices every two months, does terms and condition allow that?\")\n",
    "workflow.conversation.messages[-1]"
   ]
  },
  {
   "cell_type": "code",
   "execution_count": null,
   "metadata": {},
   "outputs": [],
   "source": [
    "workflow.run(\"No connection\")\n",
    "workflow.conversation.messages[-1]"
   ]
  },
  {
   "cell_type": "code",
   "execution_count": null,
   "metadata": {},
   "outputs": [],
   "source": [
    "workflow.run(\"My customer code is 1234\")\n",
    "workflow.conversation.messages[-1]"
   ]
  },
  {
   "cell_type": "code",
   "execution_count": null,
   "metadata": {},
   "outputs": [],
   "source": [
    "workflow.conversation.messages"
   ]
  }
 ],
 "metadata": {
  "kernelspec": {
   "display_name": ".conda",
   "language": "python",
   "name": "python3"
  },
  "language_info": {
   "codemirror_mode": {
    "name": "ipython",
    "version": 3
   },
   "file_extension": ".py",
   "mimetype": "text/x-python",
   "name": "python",
   "nbconvert_exporter": "python",
   "pygments_lexer": "ipython3",
   "version": "3.11.9"
  }
 },
 "nbformat": 4,
 "nbformat_minor": 2
}

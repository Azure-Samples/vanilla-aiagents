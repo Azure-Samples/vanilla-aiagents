{
 "cells": [
  {
   "cell_type": "markdown",
   "metadata": {},
   "source": [
    "# Call Center variant\n",
    "\n",
    "This notebook has a variation of the `telco_callcenter` example, including usage of a `Sequence` to chain `Team` output with a \"filter\" that adjusts the response given the channel the conversation is happening on."
   ]
  },
  {
   "cell_type": "code",
   "execution_count": 1,
   "metadata": {},
   "outputs": [],
   "source": [
    "%load_ext autoreload\n",
    "%autoreload 2"
   ]
  },
  {
   "cell_type": "code",
   "execution_count": 2,
   "metadata": {},
   "outputs": [],
   "source": [
    "# Add the parent directory to sys.path\n",
    "import sys, os\n",
    "sys.path.append(os.path.abspath(os.path.join('../vanilla_aiagents')))\n",
    "\n",
    "from vanilla_aiagents.agent import Agent\n",
    "from vanilla_aiagents.user import User\n",
    "from vanilla_aiagents.workflow import Workflow\n",
    "from vanilla_aiagents.team import Team\n",
    "from vanilla_aiagents.sequence import Sequence\n",
    "from vanilla_aiagents.llm import AzureOpenAILLM\n",
    "from dotenv import load_dotenv\n",
    "\n",
    "load_dotenv(override=True)\n",
    "import os"
   ]
  },
  {
   "cell_type": "code",
   "execution_count": 3,
   "metadata": {},
   "outputs": [],
   "source": [
    "llm = AzureOpenAILLM({\n",
    "    \"azure_deployment\": os.getenv(\"AZURE_OPENAI_MODEL\"),\n",
    "    \"azure_endpoint\": os.getenv(\"AZURE_OPENAI_ENDPOINT\"),\n",
    "    \"api_key\": os.getenv(\"AZURE_OPENAI_KEY\"),\n",
    "    \"api_version\": os.getenv(\"AZURE_OPENAI_API_VERSION\"),\n",
    "})\n",
    "\n",
    "# Set logging to debug for Agent, User and Workflow\n",
    "import logging\n",
    "\n",
    "# Set logging to debug for Agent, User, and Workflow\n",
    "logging.basicConfig(level=logging.WARN)\n",
    "logging.getLogger(\"vanilla_aiagents.agent\").setLevel(logging.DEBUG)\n",
    "logging.getLogger(\"vanilla_aiagents.team\").setLevel(logging.DEBUG)\n",
    "logging.getLogger(\"vanilla_aiagents.user\").setLevel(logging.DEBUG)\n",
    "logging.getLogger(\"vanilla_aiagents.workflow\").setLevel(logging.DEBUG)"
   ]
  },
  {
   "cell_type": "code",
   "execution_count": 4,
   "metadata": {},
   "outputs": [],
   "source": [
    "user = User(mode=\"unattended\", description = \"An interface to a human participant. Call this agent to get inputs from the user and proceed with the workflow.\")"
   ]
  },
  {
   "cell_type": "code",
   "execution_count": null,
   "metadata": {},
   "outputs": [],
   "source": [
    "greeter = Agent(description=\"A greeter agent, to say hello and welcome to the user\", id=\"greeter\", llm=llm, system_message=\"\"\"\n",
    "You are a call center operator that responds to customer inquiries. \n",
    "    \n",
    "    Your task are:\n",
    "    - Greet the Customer at first. Be sure to ask how you can help.\n",
    "    - Check if the Customer has any additional questions. If not, close the conversation.\n",
    "    - Close the conversation after the Customer's request has been resolved. Thank the Customer for their time and wish them a good day and write TERMINATE to end the conversation. DO write TERMINATE in the response.\n",
    "    \n",
    "    IMPORTANT NOTES:\n",
    "    - Make sure to act politely and professionally.    \n",
    "    - Make sure to write TERMINATE to end the conversation.    \n",
    "    - NEVER pretend to act on behalf of the company. NEVER provide false information.\n",
    " \"\"\")"
   ]
  },
  {
   "cell_type": "code",
   "execution_count": null,
   "metadata": {},
   "outputs": [],
   "source": [
    "sales = Agent(description=\"A sales agent that can answer sales questions\", id=\"sales\",llm=llm, system_message=\"\"\"\n",
    "You are a sales person that responds to customer inquiries.\n",
    "    \n",
    "    You have access to pricing and product details in the PRODUCTS sections below. Please note field starting with \"_\" are not to be shared with the Customer.\n",
    "    \n",
    "    Your tasks are:\n",
    "    - provide the Customer with the information they need. Try to be specific and provide the customer only options that fit their needs.\n",
    "    \n",
    "    IMPORTANT NOTES:\n",
    "    - DO act politely and professionally\n",
    "    - NEVER provide false information\n",
    "    \n",
    "    ### PRODUCTS\n",
    "    - Mobile Internet\n",
    "        - Description: Mobile WiFi for you to take anywhere, supports up to 10 devices.\n",
    "        - Price: €10/month\n",
    "        - Details: 10GB data included, €1/GB after that.\n",
    "        - _SKU: INET_MOBILE\n",
    "    - All-in-One Bundle\n",
    "        - Description: Mobile internet and home internet in one package.\n",
    "        - Price: €45/month\n",
    "        - Details: 10GB mobile data, €1/GB after that. Home internet included.\n",
    "        - _SKU: INET_BUNDLE\n",
    "    - Home Internet\n",
    "        - Description: High-speed internet for your home.\n",
    "        - Price: €30/month\n",
    "        - Details: Unlimited data at 1Gbps.\n",
    "        - _SKU: INET_HOME\"\"\")"
   ]
  },
  {
   "cell_type": "code",
   "execution_count": null,
   "metadata": {},
   "outputs": [],
   "source": [
    "from typing_extensions import Annotated\n",
    "\n",
    "\n",
    "technical = Agent(description=\"A technical support agent that can answer technical questions\", id=\"technical\", llm=llm, system_message=\"\"\"You are a technical support agent that responds to customer inquiries.\n",
    "    \n",
    "    Your task are:\n",
    "    - Assess the technical issue the customer is facing.\n",
    "    - Verify if there any known issues with the service the customer is using.\n",
    "    - Check remote telemetry data to identify potential issues with customer's device. Be sure to ask customer code first.\n",
    "    - Provide the customer with possible solutions to the issue. See the list of common issues below.\n",
    "    - When the service status is OK, reply the customer and suggest to restart the device.\n",
    "    - When the service status is DEGRADED, apologize to the customer and kindly ask them to wait for the issue to be resolved.\n",
    "    - Open an internal ticket if the issue cannot be resolved immediately.\n",
    "    \n",
    "    Make sure to act politely and professionally.    \n",
    "    \n",
    "    ### Common issues and solutions:\n",
    "\n",
    "    - Home Internet:\n",
    "        - Issue: No internet connection.\n",
    "        - Solutions: \n",
    "            - Check the router's power supply and cables.\n",
    "            - Restart the router.\n",
    "            - Check the internet connection status LED on the router.\n",
    "    - Mobile Internet:\n",
    "        - Issue: Slow internet connection or no connection.\n",
    "        - Solutions:\n",
    "            - Check the signal strength on the device.\n",
    "            - Restart the device.\n",
    "            - Check the data usage on the device.\n",
    "            - Suggest the customer to purchase additional data when the limit is reached.\n",
    "    - All-in-One Bundle:\n",
    "        USE a combination of the solutions for Home Internet and Mobile Internet.\n",
    "    \n",
    "    \"\"\")\n",
    "\n",
    "@technical.register_tool(description=\"Get the service status\")\n",
    "def get_service_status(\n",
    "    service_sku: Annotated[str, \"The SKU of the service to check status for\"]\n",
    "    ) -> Annotated[str, \"Status of the specified service\"]:\n",
    "        \n",
    "    return \"Service degraded\"\n",
    "\n",
    "@technical.register_tool(description=\"Get the service status\")\n",
    "def check_customer_telemetry(\n",
    "    service_sku: Annotated[str, \"The SKU of the service to check status for, values can be INET_MOBILE, INET_BUNDLE, INET_HOME\"],\n",
    "    customerCode: Annotated[str, \"The customer code to check telemetry for\"]\n",
    "    ) -> Annotated[str, \"Telemetry summary for the specified customer\"]:\n",
    "            \n",
    "    return \"No issues detected\""
   ]
  },
  {
   "cell_type": "code",
   "execution_count": null,
   "metadata": {},
   "outputs": [],
   "source": [
    "team = Team(id=\"team\", description=\"\", members=[user, greeter, sales, technical], llm=llm, stop_callback=lambda msgs: len(msgs) > 6)\n"
   ]
  },
  {
   "cell_type": "code",
   "execution_count": null,
   "metadata": {},
   "outputs": [],
   "source": [
    "channel = Agent(description=\"An agent that detects the channel of the conversation\", id=\"channel\", llm=llm, system_message=\"\"\"\n",
    "You are a channel detection agent that determines the channel of the conversation.\n",
    "Your task is to write the channel of the LAST USER message. The channel can be one of the following value:\n",
    "- Voice\n",
    "- Web\n",
    "- WhatsApp\n",
    "You MUST only output CHANNEL= followed by the channel value.\n",
    "\n",
    "NOTE: since this is a demo, the channel MUST ALWAYS BE 'Voice'.\n",
    "\"\"\")"
   ]
  },
  {
   "cell_type": "code",
   "execution_count": null,
   "metadata": {},
   "outputs": [],
   "source": [
    "reviewer = Agent(description=\"A reviewer agent that MUST review the conversation and adjust other agent messages\", \n",
    "                 id=\"reviewer\", \n",
    "                 llm=llm,\n",
    "                 system_message=\"\"\"\n",
    "You are a reviewer that reviews messages from other agents and adjusts them as needed.\n",
    "\n",
    "YOUR TASKS:\n",
    "- Find the message from 'content-provider' to understand the context information.\n",
    "- Find the last message in the conversation from an assistant. MAKE sure to ignore user messages.\n",
    "- If the channel is 'Voice', REWRITE the message to sound more natural, be shorter and does not sound like someone reading a pitch.\n",
    "- If the channel is 'WhatsApp', REWRITE the message to remove any Markdown formatting.\n",
    "- ALWAYS ensure the same information is conveyed in the edited message.\n",
    "- NEVER edit the message from the user\n",
    "- Make sure all edits keep the message polite and professional\n",
    "- NEVER provide false information or pretend to act on behalf of the user\n",
    "\"\"\")"
   ]
  },
  {
   "cell_type": "code",
   "execution_count": 11,
   "metadata": {},
   "outputs": [],
   "source": [
    "from vanilla_aiagents.askable import Askable\n",
    "from vanilla_aiagents.llm import LLM\n",
    "\n",
    "\n",
    "class ReviewerFilter(Askable):\n",
    "    def __init__(self, id: str, description: str, llm: LLM):\n",
    "        super().__init__(id, description)\n",
    "        self.llm = llm\n",
    "\n",
    "    def ask(self, messages: list[dict]):\n",
    "        # Find the message from name=context-provider\n",
    "        context_provider_message = next((message for message in messages if message[\"name\"] == \"context-provider\"), None)\n",
    "        context = context_provider_message[\"content\"]\n",
    "        last_message = messages[-1]\n",
    "        \n",
    "        system_message_template = \"\"\"\n",
    "You are a reviewer that reviews messages from other agents and adjusts them as needed.\n",
    "\n",
    "YOUR TASKS:\n",
    "- Use the context information to understand the message.\n",
    "- If the channel is 'Voice', REWRITE the message to sound more natural, be shorter and does not sound like someone reading a pitch. Also strip any Markdown formatting.\n",
    "- If the channel is 'WhatsApp', REWRITE the message to remove any Markdown formatting.\n",
    "- ALWAYS ensure the same information is conveyed in the edited message.\n",
    "- Make sure all edits keep the message polite and professional\n",
    "- NEVER provide false information or pretend to act on behalf of the user\n",
    "\n",
    "CONTEXT INFORMATION:\n",
    "{context}\n",
    "\n",
    "MESSAGE TO REVIEW:\n",
    "{message}\n",
    "        \"\"\"\n",
    "        \n",
    "        local_messages = []\n",
    "        local_messages.append({\"role\": \"system\", \"content\": system_message_template.format(context=context, message=last_message[\"content\"])})\n",
    "        local_messages.append({\"role\": \"user\", \"content\": \"Rewrite the message\"})\n",
    "        \n",
    "        response = self.llm.ask(messages=local_messages)\n",
    "        \n",
    "        messages[-1][\"content\"] = response.content\n",
    "        \n",
    "        return None"
   ]
  },
  {
   "cell_type": "code",
   "execution_count": null,
   "metadata": {},
   "outputs": [],
   "source": [
    "filter = ReviewerFilter(id=\"filter\", description=\"A reviewer filter\", llm=llm)\n",
    "flow = Sequence(id=\"flow\", llm=llm, description=\"A flow to handle customer inquiries\", steps=[team, filter])"
   ]
  },
  {
   "cell_type": "code",
   "execution_count": null,
   "metadata": {},
   "outputs": [],
   "source": [
    "history = [\n",
    "    { \"role\": \"assistant\", \"name\": \"context-provider\", \"content\": \"CHANNEL=voice\" },\n",
    "]\n",
    "workflow = Workflow(askable=flow, messages=history)\n",
    "# workflow.restart()\n",
    "workflow.run(\"Hi\")\n",
    "workflow.messages"
   ]
  },
  {
   "cell_type": "code",
   "execution_count": null,
   "metadata": {},
   "outputs": [],
   "source": [
    "workflow.run(\"Hi, I want to subscribe a new Internet plan for my home. Can you help me with that?\")\n",
    "# workflow.run(\"I have problems with my home internet\")\n",
    "workflow.messages"
   ]
  },
  {
   "cell_type": "code",
   "execution_count": null,
   "metadata": {},
   "outputs": [],
   "source": [
    "workflow.run(\"I have no connection\")\n",
    "workflow.messages[-1]"
   ]
  },
  {
   "cell_type": "code",
   "execution_count": null,
   "metadata": {},
   "outputs": [],
   "source": [
    "workflow.run(\"My customer code is 1234\")\n",
    "workflow.messages[-1]"
   ]
  },
  {
   "cell_type": "code",
   "execution_count": null,
   "metadata": {},
   "outputs": [],
   "source": [
    "for msg in workflow.messages:\n",
    "    if 'name' not in msg:\n",
    "        msg['name'] = msg['role']\n",
    "    print(f\"{msg['role']}\\t{msg['name']}\\t'{msg['content']}'\")"
   ]
  }
 ],
 "metadata": {
  "kernelspec": {
   "display_name": ".conda",
   "language": "python",
   "name": "python3"
  },
  "language_info": {
   "codemirror_mode": {
    "name": "ipython",
    "version": 3
   },
   "file_extension": ".py",
   "mimetype": "text/x-python",
   "name": "python",
   "nbconvert_exporter": "python",
   "pygments_lexer": "ipython3",
   "version": "3.11.9"
  }
 },
 "nbformat": 4,
 "nbformat_minor": 2
}

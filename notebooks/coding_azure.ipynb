{
 "cells": [
  {
   "cell_type": "markdown",
   "metadata": {},
   "source": [
    "# Coding agent\n",
    "A special case of Agent is a coding one, which is capable of running code. Options are Local and Azure (Dynamic Session). This notebook demonstrate the Azure one, which relies on [Dynamic Sessions](https://learn.microsoft.com/en-us/azure/container-apps/sessions?tabs=azure-cli)\n",
    "\n",
    "**NOTE**: `AZURE_DYNAMIC_SESSIONS_ENDPOINT` env var must be set to the endpoint of the Azure Dynamic Sessions service, as describe in the documentation above. Additionally, this agent relies on Managed Identity authentication, so make sure:\n",
    "\n",
    "1. You have Azure CLI installed\n",
    "2. You are logged in with `az login` and selected the correct subscription with `az account set --subscription <subscription-id>`\n",
    "3. You have the necessary permissions to access the Dynamic Session service (e.g. `az role assignment create --role \"Azure ContainerApps Session Executor role\" --assignee <your-identity> --scope <resource-group>`)"
   ]
  },
  {
   "cell_type": "code",
   "execution_count": null,
   "metadata": {},
   "outputs": [],
   "source": [
    "%load_ext autoreload\n",
    "%autoreload 2"
   ]
  },
  {
   "cell_type": "code",
   "execution_count": null,
   "metadata": {},
   "outputs": [],
   "source": [
    "# Add the parent directory to sys.path\n",
    "import sys, os\n",
    "sys.path.append(os.path.abspath(os.path.join('../vanilla_aiagents')))\n",
    "\n",
    "from vanilla_aiagents.workflow import Workflow\n",
    "from vanilla_aiagents.team import Team\n",
    "from vanilla_aiagents.llm import AzureOpenAILLM\n",
    "from dotenv import load_dotenv\n",
    "\n",
    "load_dotenv(override=True)"
   ]
  },
  {
   "cell_type": "code",
   "execution_count": null,
   "metadata": {},
   "outputs": [],
   "source": [
    "llm = AzureOpenAILLM({\n",
    "    \"azure_deployment\": os.getenv(\"AZURE_OPENAI_MODEL\"),\n",
    "    \"azure_endpoint\": os.getenv(\"AZURE_OPENAI_ENDPOINT\"),\n",
    "    \"api_key\": os.getenv(\"AZURE_OPENAI_KEY\"),\n",
    "    \"api_version\": os.getenv(\"AZURE_OPENAI_API_VERSION\"),\n",
    "})\n",
    "\n",
    "# Set logging to debug for Agent, User and Workflow\n",
    "import logging\n",
    "\n",
    "# Set logging to debug\n",
    "logging.basicConfig(level=logging.INFO)\n",
    "logging.getLogger(\"vanilla_aiagents.agent\").setLevel(logging.DEBUG)\n",
    "logging.getLogger(\"vanilla_aiagents.team\").setLevel(logging.DEBUG)\n",
    "logging.getLogger(\"vanilla_aiagents.workflow\").setLevel(logging.DEBUG)\n",
    "logging.getLogger(\"vanilla_aiagents.coding_agent\").setLevel(logging.DEBUG)\n",
    "logging.getLogger(\"vanilla_aiagents.llm\").setLevel(logging.DEBUG)"
   ]
  },
  {
   "cell_type": "code",
   "execution_count": null,
   "metadata": {},
   "outputs": [],
   "source": [
    "from vanilla_aiagents.azure_coding_agent import AzureCodingAgent\n",
    "agent1 = AzureCodingAgent(id=\"agent1\", description=\"Agent 1\", llm=llm)\n",
    "\n",
    "flow = Team(id=\"team\", description=\"An agent capable of writing and executing code\", members=[agent1], llm=llm, stop_callback=lambda conv: len(conv.messages) > 2)\n",
    "workflow = Workflow(askable=flow)\n",
    "workflow.conversation.variables[\"conversation_id\"] = \"test\"\n",
    "\n",
    "workflow.run(\"What is latest quote for Apple Inc. stock? Generate code to get the quote.\")\n",
    "\n",
    "workflow.conversation.messages"
   ]
  }
 ],
 "metadata": {
  "kernelspec": {
   "display_name": ".conda",
   "language": "python",
   "name": "python3"
  },
  "language_info": {
   "codemirror_mode": {
    "name": "ipython",
    "version": 3
   },
   "file_extension": ".py",
   "mimetype": "text/x-python",
   "name": "python",
   "nbconvert_exporter": "python",
   "pygments_lexer": "ipython3",
   "version": "3.11.9"
  }
 },
 "nbformat": 4,
 "nbformat_minor": 2
}

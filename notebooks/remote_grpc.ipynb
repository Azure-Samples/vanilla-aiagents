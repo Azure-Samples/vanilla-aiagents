{
 "cells": [
  {
   "cell_type": "markdown",
   "metadata": {},
   "source": [
    "# Remote gRPC agents - host\n",
    "\n",
    "This notebook is a host for the remote agents client in the `remote_grpc_client` notebook.\n",
    "\n",
    "Please refer to the `remote` notebook for further details about remote agents.\n",
    "\n",
    "**NOTES**\n",
    "- Run this notebook `remote_grpc_client` notebook AFTER running this one\n",
    "- Remember to run last cell `host.stop()` to stop the server and release the port"
   ]
  },
  {
   "cell_type": "code",
   "execution_count": 1,
   "metadata": {},
   "outputs": [],
   "source": [
    "%load_ext autoreload\n",
    "%autoreload 2"
   ]
  },
  {
   "cell_type": "code",
   "execution_count": null,
   "metadata": {},
   "outputs": [],
   "source": [
    "# Add the parent directory to sys.path\n",
    "import sys, os\n",
    "sys.path.append(os.path.abspath(os.path.join('../vanilla_aiagents')))\n",
    "\n",
    "from vanilla_aiagents.agent import Agent\n",
    "from vanilla_aiagents.workflow import Workflow, Conversation\n",
    "from vanilla_aiagents.llm import AzureOpenAILLM\n",
    "from vanilla_aiagents.remote.remote import RemoteAskable\n",
    "from vanilla_aiagents.remote.grpc import GRPCConnection\n",
    "from dotenv import load_dotenv\n",
    "\n",
    "load_dotenv(override=True)"
   ]
  },
  {
   "cell_type": "code",
   "execution_count": 3,
   "metadata": {},
   "outputs": [],
   "source": [
    "llm = AzureOpenAILLM({\n",
    "    \"azure_deployment\": os.getenv(\"AZURE_OPENAI_MODEL\"),\n",
    "    \"azure_endpoint\": os.getenv(\"AZURE_OPENAI_ENDPOINT\"),\n",
    "    \"api_key\": os.getenv(\"AZURE_OPENAI_KEY\"),\n",
    "    \"api_version\": os.getenv(\"AZURE_OPENAI_API_VERSION\"),\n",
    "})\n",
    "\n",
    "# Set logging to debug for Agent, User and Workflow\n",
    "import logging\n",
    "\n",
    "# Set logging to debug for Agent, User, and Workflow\n",
    "logging.basicConfig(level=logging.INFO)\n",
    "logging.getLogger(\"vanilla_aiagents.agent\").setLevel(logging.DEBUG)\n",
    "logging.getLogger(\"vanilla_aiagents.workflow\").setLevel(logging.DEBUG)\n",
    "logging.getLogger(\"vanilla_aiagents.llm\").setLevel(logging.DEBUG)\n",
    "logging.getLogger(\"vanilla_aiagents.remote.grpc\").setLevel(logging.DEBUG)"
   ]
  },
  {
   "cell_type": "code",
   "execution_count": null,
   "metadata": {},
   "outputs": [],
   "source": [
    "agent1 = Agent(id=\"agent1\", llm=llm, description=\"Call this agent for general purpose questions\", system_message = \"\"\"You are an AI assistant\n",
    "    Your task is to help the user with their questions.\n",
    "    Always respond with the best answer you can generate.\n",
    "    If you don't know the answer, respond with \"I don't know\".\n",
    "    Always be polite and helpful.\n",
    "    \"\"\")"
   ]
  },
  {
   "cell_type": "code",
   "execution_count": 5,
   "metadata": {},
   "outputs": [],
   "source": [
    "from vanilla_aiagents.remote.remote import RemoteAskable\n",
    "from vanilla_aiagents.remote.grpc import GRPCHost, GRPCConnection\n",
    "\n",
    "# Values here must match the client's values\n",
    "host = GRPCHost(askables=[agent1], host=\"localhost\", port=5002)\n"
   ]
  },
  {
   "cell_type": "code",
   "execution_count": null,
   "metadata": {},
   "outputs": [],
   "source": [
    "host.start()"
   ]
  },
  {
   "cell_type": "code",
   "execution_count": null,
   "metadata": {},
   "outputs": [],
   "source": [
    "connection = GRPCConnection(url=\"localhost:5002\")\n",
    "remote = RemoteAskable(id=\"agent1\", connection=connection)\n",
    "flow = Workflow(askable=remote)"
   ]
  },
  {
   "cell_type": "code",
   "execution_count": null,
   "metadata": {},
   "outputs": [],
   "source": [
    "flow.restart()\n",
    "# flow.run(\"Which is the capital of France?\")\n",
    "# flow.conversation.messages\n",
    "\n",
    "for message in flow.run_stream(\"Which is the capital of France?\"):\n",
    "    print(message)"
   ]
  },
  {
   "cell_type": "code",
   "execution_count": 9,
   "metadata": {},
   "outputs": [],
   "source": [
    "# IMPORTANT: Stop the host to release the port\n",
    "host.stop()"
   ]
  }
 ],
 "metadata": {
  "kernelspec": {
   "display_name": ".conda",
   "language": "python",
   "name": "python3"
  },
  "language_info": {
   "codemirror_mode": {
    "name": "ipython",
    "version": 3
   },
   "file_extension": ".py",
   "mimetype": "text/x-python",
   "name": "python",
   "nbconvert_exporter": "python",
   "pygments_lexer": "ipython3",
   "version": "3.11.9"
  }
 },
 "nbformat": 4,
 "nbformat_minor": 2
}

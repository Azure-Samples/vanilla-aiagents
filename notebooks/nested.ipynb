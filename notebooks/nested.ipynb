{
 "cells": [
  {
   "cell_type": "markdown",
   "metadata": {},
   "source": [
    "# Nested workflows\n",
    "This notebook demos a nested workflow approach. The parent defines a process of two steps, each of which is a sub workflow. \n",
    "\n",
    "In the parent transitions are defined to move from one step to the next - thus they are sequential.\n",
    "Children workflows instead are free to move between agents.\n",
    "\n",
    "## Context\n",
    "A fake Contoso Insurance company is used to demonstrate the process. The company has a process of handling refunds. The process is divided into two steps:\n",
    "\n",
    "## Process\n",
    "\n",
    "1. Parent workflow\n",
    "    1. Team `Step1`: Data collection\n",
    "        1. Agent `data_collector` collects data from the provided ticket\n",
    "        2. Agent `data_validator` validates the data and potentially resends the ticket to the `data_collector`\n",
    "    2. Team `Step2`: Refund handling\n",
    "        1. Agent `approver` processes the refund if amount is less than 1000 USD, otherwise sends it to the `approval_manager`\n",
    "        2. User `approval_manager` approves the refund if amount is more than 1000 USD"
   ]
  },
  {
   "cell_type": "code",
   "execution_count": 2,
   "metadata": {},
   "outputs": [],
   "source": [
    "%load_ext autoreload\n",
    "%autoreload 2"
   ]
  },
  {
   "cell_type": "code",
   "execution_count": 3,
   "metadata": {},
   "outputs": [],
   "source": [
    "# Add the parent directory to sys.path\n",
    "import sys, os\n",
    "sys.path.append(os.path.abspath(os.path.join('../vanilla_aiagents')))\n",
    "\n",
    "from vanilla_aiagents.agent import Agent\n",
    "from vanilla_aiagents.user import User\n",
    "from vanilla_aiagents.workflow import Workflow\n",
    "from vanilla_aiagents.team import Team\n",
    "from vanilla_aiagents.llm import AzureOpenAILLM\n",
    "from dotenv import load_dotenv\n",
    "\n",
    "load_dotenv(override=True)\n",
    "import os"
   ]
  },
  {
   "cell_type": "code",
   "execution_count": 4,
   "metadata": {},
   "outputs": [],
   "source": [
    "llm = AzureOpenAILLM({\n",
    "    \"azure_deployment\": os.getenv(\"AZURE_OPENAI_MODEL\"),\n",
    "    \"azure_endpoint\": os.getenv(\"AZURE_OPENAI_ENDPOINT\"),\n",
    "    \"api_key\": os.getenv(\"AZURE_OPENAI_KEY\"),\n",
    "    \"api_version\": os.getenv(\"AZURE_OPENAI_API_VERSION\"),\n",
    "})\n",
    "\n",
    "# Set logging to debug for Agent, User and Workflow\n",
    "import logging\n",
    "\n",
    "# Set logging to debug for Agent, User, and Workflow\n",
    "logging.basicConfig(level=logging.INFO)\n",
    "logging.getLogger(\"vanilla_aiagents.agent\").setLevel(logging.DEBUG)\n",
    "logging.getLogger(\"vanilla_aiagents.user\").setLevel(logging.DEBUG)\n",
    "logging.getLogger(\"vanilla_aiagents.workflow\").setLevel(logging.DEBUG)"
   ]
  },
  {
   "cell_type": "code",
   "execution_count": null,
   "metadata": {},
   "outputs": [],
   "source": [
    "data_collector = Agent(id=\"data_collector\", description=\"Collects information from the provided input\", llm=llm, system_message=\"\"\"\n",
    "You are part of an automated process that extracts data from a user-provided ticket.\n",
    "Your task is to extract the following information from the ticket:\n",
    "- User name and email\n",
    "- User's request\n",
    "- User's inquiried amount of money\n",
    "- Accident date (in ISO format)\n",
    "- Accident location\n",
    "- Accident description\n",
    "- Accident kind\n",
    "- Insurance company\n",
    "- Insurance policy number\n",
    "\n",
    "When the accident kind regards the following options, look for additional information:\n",
    "- Car accident:\n",
    "    - Car brand and model\n",
    "    - Car license plate\n",
    "    - Other car's license plate\n",
    "    - Other car's brand and model\n",
    "- Home accident\n",
    "    - Home address\n",
    "    - Room where the accident happened\n",
    "\"\"\")"
   ]
  },
  {
   "cell_type": "code",
   "execution_count": null,
   "metadata": {},
   "outputs": [],
   "source": [
    "data_evaluator = Agent(id=\"data_evaluator\", description=\"Evaluates the data collected by the data collector\", llm=llm, system_message=\"\"\"\n",
    "You are part of an automated process that evaluates the data collected by the data collector.\n",
    "Your task is to evaluate the following information extracted from the ticket:\n",
    "- User name and email\n",
    "- User's request\n",
    "- Accident date (in ISO format)\n",
    "- Accident location\n",
    "- Accident description\n",
    "- Accident kind\n",
    "- Insurance company\n",
    "- Insurance policy number\n",
    "\n",
    "When the accident kind regards the following options, look for additional information:\n",
    "- Car accident:\n",
    "    - Car brand and model\n",
    "    - Car license plate\n",
    "    - Other car's license plate\n",
    "    - Other car's brand and model\n",
    "- Home accident\n",
    "    - Home address\n",
    "    - Room where the accident happened\n",
    "    \n",
    "    \n",
    "OUTPUT:\n",
    "- 'DATA COLLECTION DONE' if the data is correct\n",
    "- 'REPEAT DATA COLLECTION' if the data is incorrect\n",
    "\"\"\")"
   ]
  },
  {
   "cell_type": "code",
   "execution_count": null,
   "metadata": {},
   "outputs": [],
   "source": [
    "step1 = Team(id=\"step1\", description=\"Validates the input provided to ensure all required information are collected\", \n",
    "             members=[data_collector, data_evaluator], \n",
    "             system_prompt=\"\",\n",
    "             llm=llm, \n",
    "             stop_callback=lambda conv: conv.messages[-1]['content'].lower().endswith(\"done\"))"
   ]
  },
  {
   "cell_type": "code",
   "execution_count": null,
   "metadata": {},
   "outputs": [],
   "source": [
    "approver = Agent(id=\"approver\", description=\"Approves the data collected by the data collector\", llm=llm, system_message=\"\"\"\n",
    "You are part of an automated process that needs to approve or forward money refunds to a user insurance claim.\n",
    "\n",
    "If the amount is less than 1000 USD, you can approve the refund. Otherwise, you need to forward the request to the manager.\n",
    "\n",
    "OUTPUT:\n",
    "- 'APPROVE' if the amount is less than 1000 USD\n",
    "- 'FORWARD' if the amount is greater than 1000 USD\n",
    "\"\"\")"
   ]
  },
  {
   "cell_type": "code",
   "execution_count": 9,
   "metadata": {},
   "outputs": [],
   "source": [
    "approval_manager = User(id=\"approval_manager\", description=\"An insurance manager that can approve or reject the refund request when the automatic approver forwards the request\")"
   ]
  },
  {
   "cell_type": "code",
   "execution_count": null,
   "metadata": {},
   "outputs": [],
   "source": [
    "step2 = Team(id=\"step2\", description=\"Processes the information gathered to provide the final answer\", members=[approver, approval_manager], llm=llm, \n",
    "    stop_callback=lambda conv: conv.messages[-1]['content'].lower().endswith(\"approve\") or conv.messages[-1]['content'].lower().endswith(\"reject\"))"
   ]
  },
  {
   "cell_type": "code",
   "execution_count": 11,
   "metadata": {},
   "outputs": [],
   "source": [
    "from vanilla_aiagents.sequence import Sequence\n",
    "process = Sequence(id=\"process\", description=\"The process team\", steps=[step1, step2], llm=llm)"
   ]
  },
  {
   "cell_type": "code",
   "execution_count": 12,
   "metadata": {},
   "outputs": [],
   "source": [
    "ticket= \"\"\"\n",
    "From: Alice Thompson <a_thompson@foo.com>\n",
    "To: Contoso Insurance Team <report@contoso-insurancec.com>\n",
    "Subject: URGENT: Car Accident Claim - Immediate Assistance Required\n",
    "\n",
    "Dear Contoso Insurance Team,\n",
    "\n",
    "I hope this email finds you well. I am writing to you with a heavy heart and a great deal of stress regarding an unfortunate incident that occurred earlier today. I was involved in a car accident and I am seeking immediate assistance to file a claim and get the support I need during this challenging time.\n",
    "\n",
    "Here's what happened: I was driving home from work, heading south on Maple Avenue, when out of nowhere, another vehicle came speeding through a red light at the intersection of Maple and Oak Street. I had no time to react, and the other car crashed into the passenger side of my vehicle with considerable force. The impact was severe, and both cars were significantly damaged. My car, a 2018 Toyota Camry, has extensive damage to the passenger side, and I believe it may not be drivable at this point.\n",
    "\n",
    "Thankfully, I did not sustain any major injuries, but I am feeling quite shaken up and have some minor bruises. The other driver appeared to be unharmed as well, but their car, a silver Honda Civic, was also badly damaged. We exchanged contact and insurance information at the scene, and I made sure to take photos of the damage to both vehicles for documentation purposes.\n",
    "\n",
    "The accident was promptly reported to the local authorities, and a police report was filed. I have attached a copy of the police report, along with the photos I took, for your reference. Additionally, I have provided my insurance policy number and other relevant details below to expedite the process.\n",
    "\n",
    "Policy Number: 2021-123456789\n",
    "Date of Accident: Monday, August 23, 2022\n",
    "Location: Intersection of Maple Avenue and Oak Street\n",
    "Vehicle Involved: 2018 Toyota Camry (License Plate: AAA-1234)\n",
    "Other Party Involved: Silver Honda Civic (License Plate: ZZZ-5678)\n",
    "\n",
    "I am deeply concerned about the repair costs ($ 1000) and the potential need for a rental car while my vehicle is being repaired. I would greatly appreciate it if you could guide me through the next steps and let me know what information or documentation you require from my end to process the claim efficiently.\n",
    "\n",
    "This is a very distressing situation for me, and I am relying on your prompt assistance and expertise to help me navigate this process. Please let me know if there are any forms I need to fill out or additional information I need to provide.\n",
    "\n",
    "Thank you in advance for your understanding and support during this difficult time. I look forward to hearing from you soon and hope for a swift resolution to my claim.\n",
    "\n",
    "Warm regards,\n",
    "\n",
    "Alice Thompson\n",
    "\"\"\""
   ]
  },
  {
   "cell_type": "code",
   "execution_count": null,
   "metadata": {},
   "outputs": [],
   "source": [
    "workflow = Workflow(process)\n",
    "workflow.restart()\n",
    "# workflow.run(ticket)\n",
    "stream = []\n",
    "for mark, content in workflow.run_stream(ticket):\n",
    "    print(f\"{mark}: {content}\")\n",
    "    stream.append({\"mark\": mark, \"content\": content})"
   ]
  },
  {
   "cell_type": "code",
   "execution_count": null,
   "metadata": {},
   "outputs": [],
   "source": [
    "workflow.conversation.messages"
   ]
  },
  {
   "cell_type": "code",
   "execution_count": null,
   "metadata": {},
   "outputs": [],
   "source": [
    "# print stream element by element, but only when mark is start, end or response\n",
    "for i in range(len(stream)):\n",
    "    if stream[i][\"mark\"] in [\"start\", \"end\", \"response\"]:\n",
    "        print(f\"{stream[i]['mark']}: {stream[i]['content']}\")"
   ]
  }
 ],
 "metadata": {
  "kernelspec": {
   "display_name": ".conda",
   "language": "python",
   "name": "python3"
  },
  "language_info": {
   "codemirror_mode": {
    "name": "ipython",
    "version": 3
   },
   "file_extension": ".py",
   "mimetype": "text/x-python",
   "name": "python",
   "nbconvert_exporter": "python",
   "pygments_lexer": "ipython3",
   "version": "3.11.9"
  }
 },
 "nbformat": 4,
 "nbformat_minor": 2
}

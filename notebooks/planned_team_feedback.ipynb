{
 "cells": [
  {
   "cell_type": "markdown",
   "metadata": {},
   "source": [
    "# Planned Team with feeback loop\n",
    "\n",
    "Like `planned_team.ipynb`, but with a feedback callback to repeat planning and execution until certain criteria are met. The idea is to instruct an `Agent` to be always last in the plan and fill in some variables with the feedback from the previous execution, if any. When `repeat_until` callback is invoked, it checks those variables and decides whether to repeat the planning and execution or not. `PlannedTeam` will then be able to plan and execute according to the given feedback."
   ]
  },
  {
   "cell_type": "code",
   "execution_count": 60,
   "metadata": {},
   "outputs": [
    {
     "name": "stdout",
     "output_type": "stream",
     "text": [
      "The autoreload extension is already loaded. To reload it, use:\n",
      "  %reload_ext autoreload\n"
     ]
    }
   ],
   "source": [
    "%load_ext autoreload\n",
    "%autoreload 2"
   ]
  },
  {
   "cell_type": "code",
   "execution_count": 61,
   "metadata": {},
   "outputs": [],
   "source": [
    "# Add the parent directory to sys.path\n",
    "import sys, os\n",
    "sys.path.append(os.path.abspath(os.path.join('../vanilla_aiagents')))\n",
    "\n",
    "from vanilla_aiagents.agent import Agent\n",
    "from vanilla_aiagents.llm import AzureOpenAILLM, LLMConstraints\n",
    "from vanilla_aiagents.workflow import Workflow\n",
    "from vanilla_aiagents.planned_team import PlannedTeam\n",
    "from vanilla_aiagents.conversation import Conversation\n",
    "from dotenv import load_dotenv\n",
    "\n",
    "load_dotenv(override=True)\n",
    "import os"
   ]
  },
  {
   "cell_type": "code",
   "execution_count": 62,
   "metadata": {},
   "outputs": [
    {
     "name": "stderr",
     "output_type": "stream",
     "text": [
      "INFO:azure.identity._credentials.environment:No environment configuration found.\n",
      "INFO:azure.identity._credentials.managed_identity:ManagedIdentityCredential will use IMDS\n",
      "INFO:azure.identity._credentials.managed_identity:ManagedIdentityCredential will use IMDS\n",
      "INFO:azure.identity._credentials.environment:No environment configuration found.\n",
      "INFO:azure.identity._credentials.managed_identity:ManagedIdentityCredential will use IMDS\n"
     ]
    }
   ],
   "source": [
    "llm = AzureOpenAILLM({\n",
    "    \"azure_deployment\": \"gpt-4o\",\n",
    "    \"azure_endpoint\": os.getenv(\"AZURE_OPENAI_ENDPOINT\"),\n",
    "    \"api_key\": os.getenv(\"AZURE_OPENAI_KEY\"),\n",
    "    \"api_version\": os.getenv(\"AZURE_OPENAI_API_VERSION\"),\n",
    "})\n",
    "reasoning_llm = AzureOpenAILLM({\n",
    "    \"azure_deployment\": \"o1-mini\",\n",
    "    \"azure_endpoint\": os.getenv(\"AZURE_OPENAI_ENDPOINT\"),\n",
    "    \"api_key\": os.getenv(\"AZURE_OPENAI_KEY\"),\n",
    "    \"api_version\": os.getenv(\"AZURE_OPENAI_API_VERSION\"),\n",
    "}, constraints=LLMConstraints(temperature=1, structured_output=False, system_message=False))\n",
    "\n",
    "# Set logging to debug for Agent, User and Workflow\n",
    "import logging\n",
    "\n",
    "# Set logging to debug for Agent, User, and Workflow\n",
    "logging.basicConfig(level=logging.INFO)\n",
    "logging.getLogger(\"vanilla_aiagents.agent\").setLevel(logging.DEBUG)\n",
    "logging.getLogger(\"vanilla_aiagents.planned_team\").setLevel(logging.DEBUG)\n",
    "logging.getLogger(\"vanilla_aiagents.user\").setLevel(logging.DEBUG)\n",
    "logging.getLogger(\"vanilla_aiagents.workflow\").setLevel(logging.DEBUG)"
   ]
  },
  {
   "cell_type": "code",
   "execution_count": null,
   "metadata": {},
   "outputs": [
    {
     "name": "stderr",
     "output_type": "stream",
     "text": [
      "DEBUG:vanilla_aiagents.agent:Agent initialized with ID: sales, Description: Sales agent, takes price and discounts to provide an offer. Use a professional tone\n"
     ]
    }
   ],
   "source": [
    "# A sales agent that provides offers to users\n",
    "sales = Agent(\n",
    "    id=\"sales\",\n",
    "    llm=llm,\n",
    "    description=\"Sales agent, takes price and discounts to provide an offer. Use a professional tone\",\n",
    "    system_message=\"\"\"You are part of an AI sales process\n",
    "Your task is to respond to the user buying ask by providing a price and a discount.\n",
    "You're goal is to maximize sold value, so keep discount low unless the user keeps asking for it.\n",
    "NEVER exceed the maximum discount for the product.\n",
    "\"\"\",\n",
    ")\n"
   ]
  },
  {
   "cell_type": "code",
   "execution_count": null,
   "metadata": {},
   "outputs": [
    {
     "name": "stderr",
     "output_type": "stream",
     "text": [
      "DEBUG:vanilla_aiagents.agent:Agent initialized with ID: catalog, Description: Product catalog agent, provides prices and discounts\n"
     ]
    }
   ],
   "source": [
    "\n",
    "# A catalog agent that provides prices and discounts for products\n",
    "catalog = Agent(\n",
    "    id=\"catalog\",\n",
    "    llm=llm,\n",
    "    description=\"Product catalog agent, provides prices and discounts\",\n",
    "    system_message=\"\"\"You are part of an AI process\n",
    "Your task is to provide price and discount information for the sales agent to use in the offer.\n",
    "\n",
    "# PRODUCTS PRICES AND DISCOUNTS\n",
    "- Oven: $1000\n",
    "    - MAX Discount: 25%\n",
    "- Fridge: $1500\n",
    "    - MAX Discount: 10%\n",
    "- Washing machine: $800\n",
    "    - MAX Discount: 15%\n",
    "    \n",
    "Use the following JSON format to provide the information:\n",
    "{{\"product\": \"name\", \"price\": \"1000\", \"max_discount\": 0.10}}\n",
    "\"\"\",\n",
    ")\n"
   ]
  },
  {
   "cell_type": "code",
   "execution_count": null,
   "metadata": {},
   "outputs": [
    {
     "name": "stderr",
     "output_type": "stream",
     "text": [
      "DEBUG:vanilla_aiagents.agent:Agent initialized with ID: buyer, Description: Buyer agent, will provide feedback on the offer. MUST be called last in the workflow\n"
     ]
    }
   ],
   "source": [
    "# A buyer agent that provides feedback on offers\n",
    "# Key points: \n",
    "# - it is specified to call this last and to never accept the first offer, so at least one more execution must be done\n",
    "# - agent instructions indicated which variables to set when accepting or rejecting the offer\n",
    "buyer = Agent(\n",
    "    id=\"buyer\",\n",
    "    llm=llm,\n",
    "    description=\"Buyer agent, will provide feedback on the offer. MUST be called last in the workflow\",\n",
    "    system_message=\"\"\"You are part of an AI sales process.\n",
    "    Your task is to provide feedback on the offer provided by the sales agent.\n",
    "    Never accept the first offer\n",
    "    Minimum acceptable discount is 10%.\n",
    "    \n",
    "    When offer can be accepted, set variable \"result\" to \"done\"\n",
    "    When offer is not acceptable, set variable \"result\" to \"KO\" and \"__feedback\" to \"I want a better discount\"\n",
    "    \"\"\",\n",
    ")\n"
   ]
  },
  {
   "cell_type": "code",
   "execution_count": null,
   "metadata": {},
   "outputs": [
    {
     "name": "stderr",
     "output_type": "stream",
     "text": [
      "DEBUG:vanilla_aiagents.planned_team:[PlannedTeam offer] initialized with agents: {'sales': <vanilla_aiagents.agent.Agent object at 0x000001D9E87063D0>, 'catalog': <vanilla_aiagents.agent.Agent object at 0x000001D9E86BA2D0>, 'buyer': <vanilla_aiagents.agent.Agent object at 0x000001D9E853ECD0>}\n",
      "DEBUG:vanilla_aiagents.workflow:Workflow initialized\n",
      "DEBUG:vanilla_aiagents.workflow:Workflow initialized\n"
     ]
    }
   ],
   "source": [
    "# Callback logic, check the aforementioned variables to determine if the conversation can end\n",
    "# Also, limit the conversation to 10 messages to avoid potentially infinite loops\n",
    "def can_end(conversation: Conversation) -> bool:\n",
    "    return conversation.variables.get(\"result\") == \"done\" or len(conversation.messages) > 10\n",
    "\n",
    "flow = PlannedTeam(\n",
    "    id=\"offer\",\n",
    "    description=\"\",\n",
    "    members=[sales, catalog, buyer],\n",
    "    # We use the reasoning_llm to provide the instructions to the agents, not required but useful\n",
    "    llm=reasoning_llm,\n",
    "    # Not mandatory, but useful to improve planning in general\n",
    "    include_tools_descriptions=True,\n",
    "    # Callback specified here\n",
    "    repeat_until=can_end,\n",
    ")\n",
    "workflow = Workflow(askable=flow)"
   ]
  },
  {
   "cell_type": "code",
   "execution_count": 67,
   "metadata": {},
   "outputs": [
    {
     "name": "stderr",
     "output_type": "stream",
     "text": [
      "DEBUG:vanilla_aiagents.workflow:Conversation length: 0\n",
      "DEBUG:vanilla_aiagents.workflow:Restarted workflow, cleared conversation.\n",
      "DEBUG:vanilla_aiagents.workflow:Running workflow with input: I want a new oven\n",
      "DEBUG:vanilla_aiagents.workflow:Conversation length: 0\n",
      "DEBUG:vanilla_aiagents.workflow:Added system prompt to messages: \n",
      "DEBUG:vanilla_aiagents.workflow:Added user input to messages: I want a new oven\n",
      "INFO:azure.core.pipeline.policies.http_logging_policy:Request URL: 'http://169.254.169.254/metadata/identity/oauth2/token?api-version=REDACTED&resource=REDACTED'\n",
      "Request method: 'GET'\n",
      "Request headers:\n",
      "    'User-Agent': 'azsdk-python-identity/1.19.0 Python/3.11.11 (Windows-10-10.0.26100-SP0)'\n",
      "No body was attached to the request\n",
      "INFO:azure.identity._credentials.chained:DefaultAzureCredential acquired a token from AzureCliCredential\n",
      "INFO:httpx:HTTP Request: POST https://ricchi-oai-sw.openai.azure.com//openai/deployments/o1-mini/chat/completions?api-version=2024-08-01-preview \"HTTP/1.1 200 OK\"\n",
      "DEBUG:vanilla_aiagents.planned_team:[PlannedTeam offer] result from Azure OpenAI: ChatCompletionMessage(content='```json\\n{\\n    \"plan\": [\\n        {\\n            \"agent_id\": \"catalog\",\\n            \"instructions\": \"Provide prices and available discounts for ovens.\"\\n        },\\n        {\\n            \"agent_id\": \"sales\",\\n            \"instructions\": \"Use the provided prices and discounts to create a professional offer for the new oven.\"\\n        },\\n        {\\n            \"agent_id\": \"buyer\",\\n            \"instructions\": \"Provide feedback on the offer for the new oven.\"\\n        }\\n    ]\\n}\\n```', refusal=None, role='assistant', audio=None, function_call=None, tool_calls=None)\n",
      "DEBUG:vanilla_aiagents.planned_team:[PlannedTeam offer] created plan: [TeamPlanStep(agent_id='catalog', instructions='Provide prices and available discounts for ovens.'), TeamPlanStep(agent_id='sales', instructions='Use the provided prices and discounts to create a professional offer for the new oven.'), TeamPlanStep(agent_id='buyer', instructions='Provide feedback on the offer for the new oven.')]\n",
      "DEBUG:vanilla_aiagents.planned_team:[PlannedTeam offer] current agent: catalog\n",
      "DEBUG:vanilla_aiagents.agent:[Agent ID: catalog] Received messages: [{'role': 'system', 'content': ''}, {'role': 'user', 'name': 'user', 'content': 'I want a new oven'}, {'role': 'assistant', 'name': 'offer', 'content': 'Provide prices and available discounts for ovens.'}]\n",
      "DEBUG:vanilla_aiagents.agent:[Agent ID: catalog] Local messages prepared for API call (last 3): [{'role': 'system', 'content': 'You are part of an AI process\\nYour task is to provide price and discount information for the sales agent to use in the offer.\\n\\n# PRODUCTS PRICES AND DISCOUNTS\\n- Oven: $1000\\n    - MAX Discount: 25%\\n- Fridge: $1500\\n    - MAX Discount: 10%\\n- Washing machine: $800\\n    - MAX Discount: 15%\\n    \\nUse the following JSON format to provide the information:\\n{{\"product\": \"name\", \"price\": \"1000\", \"max_discount\": 0.10}}\\n'}, {'role': 'user', 'name': 'user', 'content': 'I want a new oven'}, {'role': 'assistant', 'name': 'offer', 'content': 'Provide prices and available discounts for ovens.'}]\n",
      "INFO:azure.core.pipeline.policies.http_logging_policy:Request URL: 'http://169.254.169.254/metadata/identity/oauth2/token?api-version=REDACTED&resource=REDACTED'\n",
      "Request method: 'GET'\n",
      "Request headers:\n",
      "    'User-Agent': 'azsdk-python-identity/1.19.0 Python/3.11.11 (Windows-10-10.0.26100-SP0)'\n",
      "No body was attached to the request\n",
      "INFO:azure.identity._credentials.chained:DefaultAzureCredential acquired a token from AzureCliCredential\n",
      "INFO:httpx:HTTP Request: POST https://ricchi-oai-sw.openai.azure.com//openai/deployments/gpt-4o/chat/completions?api-version=2024-08-01-preview \"HTTP/1.1 200 OK\"\n",
      "DEBUG:vanilla_aiagents.agent:[Agent ID: catalog] API response received: ChatCompletionMessage(content='Here is the price and discount information for an oven:\\n\\n```json\\n{\\n  \"product\": \"oven\",\\n  \"price\": \"1000\",\\n  \"max_discount\": 0.25\\n}\\n```', refusal=None, role='assistant', audio=None, function_call=None, tool_calls=None)\n",
      "DEBUG:vanilla_aiagents.agent:[Agent ID: catalog] Response message: {'content': 'Here is the price and discount information for an oven:\\n\\n```json\\n{\\n  \"product\": \"oven\",\\n  \"price\": \"1000\",\\n  \"max_discount\": 0.25\\n}\\n```', 'refusal': None, 'role': 'assistant', 'audio': None, 'function_call': None, 'tool_calls': None, 'name': 'catalog'}\n",
      "DEBUG:vanilla_aiagents.planned_team:[PlannedTeam offer] asked current agent with messages: done\n",
      "DEBUG:vanilla_aiagents.planned_team:[PlannedTeam offer] current agent: sales\n",
      "DEBUG:vanilla_aiagents.agent:[Agent ID: sales] Received messages: [{'role': 'system', 'content': ''}, {'role': 'user', 'name': 'user', 'content': 'I want a new oven'}, {'role': 'assistant', 'name': 'offer', 'content': 'Provide prices and available discounts for ovens.'}, {'content': 'Here is the price and discount information for an oven:\\n\\n```json\\n{\\n  \"product\": \"oven\",\\n  \"price\": \"1000\",\\n  \"max_discount\": 0.25\\n}\\n```', 'refusal': None, 'role': 'assistant', 'audio': None, 'function_call': None, 'tool_calls': None, 'name': 'catalog'}, {'role': 'assistant', 'name': 'offer', 'content': 'Use the provided prices and discounts to create a professional offer for the new oven.'}]\n",
      "DEBUG:vanilla_aiagents.agent:[Agent ID: sales] Local messages prepared for API call (last 3): [{'role': 'assistant', 'name': 'offer', 'content': 'Provide prices and available discounts for ovens.'}, {'content': 'Here is the price and discount information for an oven:\\n\\n```json\\n{\\n  \"product\": \"oven\",\\n  \"price\": \"1000\",\\n  \"max_discount\": 0.25\\n}\\n```', 'refusal': None, 'role': 'assistant', 'audio': None, 'function_call': None, 'tool_calls': None, 'name': 'catalog'}, {'role': 'assistant', 'name': 'offer', 'content': 'Use the provided prices and discounts to create a professional offer for the new oven.'}]\n",
      "INFO:httpx:HTTP Request: POST https://ricchi-oai-sw.openai.azure.com//openai/deployments/gpt-4o/chat/completions?api-version=2024-08-01-preview \"HTTP/1.1 200 OK\"\n",
      "DEBUG:vanilla_aiagents.agent:[Agent ID: sales] API response received: ChatCompletionMessage(content=\"The price of a new oven is $1,000. I can offer you a 10% discount, bringing the price down to $900. Let me know if you're ready to proceed or if you'd like to discuss further!\", refusal=None, role='assistant', audio=None, function_call=None, tool_calls=None)\n",
      "DEBUG:vanilla_aiagents.agent:[Agent ID: sales] Response message: {'content': \"The price of a new oven is $1,000. I can offer you a 10% discount, bringing the price down to $900. Let me know if you're ready to proceed or if you'd like to discuss further!\", 'refusal': None, 'role': 'assistant', 'audio': None, 'function_call': None, 'tool_calls': None, 'name': 'sales'}\n",
      "DEBUG:vanilla_aiagents.planned_team:[PlannedTeam offer] asked current agent with messages: done\n",
      "DEBUG:vanilla_aiagents.planned_team:[PlannedTeam offer] current agent: buyer\n",
      "DEBUG:vanilla_aiagents.agent:[Agent ID: buyer] Received messages: [{'role': 'system', 'content': ''}, {'role': 'user', 'name': 'user', 'content': 'I want a new oven'}, {'role': 'assistant', 'name': 'offer', 'content': 'Provide prices and available discounts for ovens.'}, {'content': 'Here is the price and discount information for an oven:\\n\\n```json\\n{\\n  \"product\": \"oven\",\\n  \"price\": \"1000\",\\n  \"max_discount\": 0.25\\n}\\n```', 'refusal': None, 'role': 'assistant', 'audio': None, 'function_call': None, 'tool_calls': None, 'name': 'catalog'}, {'role': 'assistant', 'name': 'offer', 'content': 'Use the provided prices and discounts to create a professional offer for the new oven.'}, {'content': \"The price of a new oven is $1,000. I can offer you a 10% discount, bringing the price down to $900. Let me know if you're ready to proceed or if you'd like to discuss further!\", 'refusal': None, 'role': 'assistant', 'audio': None, 'function_call': None, 'tool_calls': None, 'name': 'sales'}, {'role': 'assistant', 'name': 'offer', 'content': 'Provide feedback on the offer for the new oven.'}]\n",
      "DEBUG:vanilla_aiagents.agent:[Agent ID: buyer] Local messages prepared for API call (last 3): [{'role': 'assistant', 'name': 'offer', 'content': 'Use the provided prices and discounts to create a professional offer for the new oven.'}, {'content': \"The price of a new oven is $1,000. I can offer you a 10% discount, bringing the price down to $900. Let me know if you're ready to proceed or if you'd like to discuss further!\", 'refusal': None, 'role': 'assistant', 'audio': None, 'function_call': None, 'tool_calls': None, 'name': 'sales'}, {'role': 'assistant', 'name': 'offer', 'content': 'Provide feedback on the offer for the new oven.'}]\n",
      "INFO:httpx:HTTP Request: POST https://ricchi-oai-sw.openai.azure.com//openai/deployments/gpt-4o/chat/completions?api-version=2024-08-01-preview \"HTTP/1.1 200 OK\"\n",
      "INFO:httpx:HTTP Request: POST https://ricchi-oai-sw.openai.azure.com//openai/deployments/gpt-4o/chat/completions?api-version=2024-08-01-preview \"HTTP/1.1 200 OK\"\n",
      "DEBUG:vanilla_aiagents.agent:[Agent ID: buyer] API response received: ChatCompletionMessage(content='I have provided feedback on the offer: \"I want a better discount.\" Let me know if there\\'s anything else you\\'d like to adjust.', refusal=None, role='assistant', audio=None, function_call=None, tool_calls=None)\n",
      "DEBUG:vanilla_aiagents.agent:[Agent ID: buyer] Response message: {'content': 'I have provided feedback on the offer: \"I want a better discount.\" Let me know if there\\'s anything else you\\'d like to adjust.', 'refusal': None, 'role': 'assistant', 'audio': None, 'function_call': None, 'tool_calls': None, 'name': 'buyer'}\n",
      "DEBUG:vanilla_aiagents.planned_team:[PlannedTeam offer] asked current agent with messages: done\n",
      "DEBUG:vanilla_aiagents.planned_team:[PlannedTeam offer] current agent: catalog\n",
      "DEBUG:vanilla_aiagents.agent:[Agent ID: catalog] Received messages: [{'role': 'system', 'content': ''}, {'role': 'user', 'name': 'user', 'content': 'I want a new oven'}, {'role': 'assistant', 'name': 'offer', 'content': 'Provide prices and available discounts for ovens.'}, {'content': 'Here is the price and discount information for an oven:\\n\\n```json\\n{\\n  \"product\": \"oven\",\\n  \"price\": \"1000\",\\n  \"max_discount\": 0.25\\n}\\n```', 'refusal': None, 'role': 'assistant', 'audio': None, 'function_call': None, 'tool_calls': None, 'name': 'catalog'}, {'role': 'assistant', 'name': 'offer', 'content': 'Use the provided prices and discounts to create a professional offer for the new oven.'}, {'content': \"The price of a new oven is $1,000. I can offer you a 10% discount, bringing the price down to $900. Let me know if you're ready to proceed or if you'd like to discuss further!\", 'refusal': None, 'role': 'assistant', 'audio': None, 'function_call': None, 'tool_calls': None, 'name': 'sales'}, {'role': 'assistant', 'name': 'offer', 'content': 'Provide feedback on the offer for the new oven.'}, {'content': 'I have provided feedback on the offer: \"I want a better discount.\" Let me know if there\\'s anything else you\\'d like to adjust.', 'refusal': None, 'role': 'assistant', 'audio': None, 'function_call': None, 'tool_calls': None, 'name': 'buyer'}, {'role': 'assistant', 'name': 'offer', 'content': 'Provide prices and available discounts for ovens.'}]\n",
      "DEBUG:vanilla_aiagents.agent:[Agent ID: catalog] Local messages prepared for API call (last 3): [{'role': 'assistant', 'name': 'offer', 'content': 'Provide feedback on the offer for the new oven.'}, {'content': 'I have provided feedback on the offer: \"I want a better discount.\" Let me know if there\\'s anything else you\\'d like to adjust.', 'refusal': None, 'role': 'assistant', 'audio': None, 'function_call': None, 'tool_calls': None, 'name': 'buyer'}, {'role': 'assistant', 'name': 'offer', 'content': 'Provide prices and available discounts for ovens.'}]\n",
      "INFO:httpx:HTTP Request: POST https://ricchi-oai-sw.openai.azure.com//openai/deployments/gpt-4o/chat/completions?api-version=2024-08-01-preview \"HTTP/1.1 200 OK\"\n",
      "DEBUG:vanilla_aiagents.agent:[Agent ID: catalog] API response received: ChatCompletionMessage(content='Here is the price and discount information for an oven:\\n\\n```json\\n{\\n  \"product\": \"oven\",\\n  \"price\": \"1000\",\\n  \"max_discount\": 0.25\\n}\\n```', refusal=None, role='assistant', audio=None, function_call=None, tool_calls=None)\n",
      "DEBUG:vanilla_aiagents.agent:[Agent ID: catalog] Response message: {'content': 'Here is the price and discount information for an oven:\\n\\n```json\\n{\\n  \"product\": \"oven\",\\n  \"price\": \"1000\",\\n  \"max_discount\": 0.25\\n}\\n```', 'refusal': None, 'role': 'assistant', 'audio': None, 'function_call': None, 'tool_calls': None, 'name': 'catalog'}\n",
      "DEBUG:vanilla_aiagents.planned_team:[PlannedTeam offer] asked current agent with messages: done\n",
      "DEBUG:vanilla_aiagents.planned_team:[PlannedTeam offer] current agent: sales\n",
      "DEBUG:vanilla_aiagents.agent:[Agent ID: sales] Received messages: [{'role': 'system', 'content': ''}, {'role': 'user', 'name': 'user', 'content': 'I want a new oven'}, {'role': 'assistant', 'name': 'offer', 'content': 'Provide prices and available discounts for ovens.'}, {'content': 'Here is the price and discount information for an oven:\\n\\n```json\\n{\\n  \"product\": \"oven\",\\n  \"price\": \"1000\",\\n  \"max_discount\": 0.25\\n}\\n```', 'refusal': None, 'role': 'assistant', 'audio': None, 'function_call': None, 'tool_calls': None, 'name': 'catalog'}, {'role': 'assistant', 'name': 'offer', 'content': 'Use the provided prices and discounts to create a professional offer for the new oven.'}, {'content': \"The price of a new oven is $1,000. I can offer you a 10% discount, bringing the price down to $900. Let me know if you're ready to proceed or if you'd like to discuss further!\", 'refusal': None, 'role': 'assistant', 'audio': None, 'function_call': None, 'tool_calls': None, 'name': 'sales'}, {'role': 'assistant', 'name': 'offer', 'content': 'Provide feedback on the offer for the new oven.'}, {'content': 'I have provided feedback on the offer: \"I want a better discount.\" Let me know if there\\'s anything else you\\'d like to adjust.', 'refusal': None, 'role': 'assistant', 'audio': None, 'function_call': None, 'tool_calls': None, 'name': 'buyer'}, {'role': 'assistant', 'name': 'offer', 'content': 'Provide prices and available discounts for ovens.'}, {'content': 'Here is the price and discount information for an oven:\\n\\n```json\\n{\\n  \"product\": \"oven\",\\n  \"price\": \"1000\",\\n  \"max_discount\": 0.25\\n}\\n```', 'refusal': None, 'role': 'assistant', 'audio': None, 'function_call': None, 'tool_calls': None, 'name': 'catalog'}, {'role': 'assistant', 'name': 'offer', 'content': 'Use the provided prices and discounts to create a professional offer for the new oven.'}]\n",
      "DEBUG:vanilla_aiagents.agent:[Agent ID: sales] Local messages prepared for API call (last 3): [{'role': 'assistant', 'name': 'offer', 'content': 'Provide prices and available discounts for ovens.'}, {'content': 'Here is the price and discount information for an oven:\\n\\n```json\\n{\\n  \"product\": \"oven\",\\n  \"price\": \"1000\",\\n  \"max_discount\": 0.25\\n}\\n```', 'refusal': None, 'role': 'assistant', 'audio': None, 'function_call': None, 'tool_calls': None, 'name': 'catalog'}, {'role': 'assistant', 'name': 'offer', 'content': 'Use the provided prices and discounts to create a professional offer for the new oven.'}]\n",
      "INFO:httpx:HTTP Request: POST https://ricchi-oai-sw.openai.azure.com//openai/deployments/gpt-4o/chat/completions?api-version=2024-08-01-preview \"HTTP/1.1 200 OK\"\n",
      "DEBUG:vanilla_aiagents.agent:[Agent ID: sales] API response received: ChatCompletionMessage(content=\"I understand you're looking for a better discount. To accommodate your request, I can offer you a 15% discount. This brings the price of the oven down to $850. Let me know if this works for you!\", refusal=None, role='assistant', audio=None, function_call=None, tool_calls=None)\n",
      "DEBUG:vanilla_aiagents.agent:[Agent ID: sales] Response message: {'content': \"I understand you're looking for a better discount. To accommodate your request, I can offer you a 15% discount. This brings the price of the oven down to $850. Let me know if this works for you!\", 'refusal': None, 'role': 'assistant', 'audio': None, 'function_call': None, 'tool_calls': None, 'name': 'sales'}\n",
      "DEBUG:vanilla_aiagents.planned_team:[PlannedTeam offer] asked current agent with messages: done\n",
      "DEBUG:vanilla_aiagents.planned_team:[PlannedTeam offer] current agent: buyer\n",
      "DEBUG:vanilla_aiagents.agent:[Agent ID: buyer] Received messages: [{'role': 'system', 'content': ''}, {'role': 'user', 'name': 'user', 'content': 'I want a new oven'}, {'role': 'assistant', 'name': 'offer', 'content': 'Provide prices and available discounts for ovens.'}, {'content': 'Here is the price and discount information for an oven:\\n\\n```json\\n{\\n  \"product\": \"oven\",\\n  \"price\": \"1000\",\\n  \"max_discount\": 0.25\\n}\\n```', 'refusal': None, 'role': 'assistant', 'audio': None, 'function_call': None, 'tool_calls': None, 'name': 'catalog'}, {'role': 'assistant', 'name': 'offer', 'content': 'Use the provided prices and discounts to create a professional offer for the new oven.'}, {'content': \"The price of a new oven is $1,000. I can offer you a 10% discount, bringing the price down to $900. Let me know if you're ready to proceed or if you'd like to discuss further!\", 'refusal': None, 'role': 'assistant', 'audio': None, 'function_call': None, 'tool_calls': None, 'name': 'sales'}, {'role': 'assistant', 'name': 'offer', 'content': 'Provide feedback on the offer for the new oven.'}, {'content': 'I have provided feedback on the offer: \"I want a better discount.\" Let me know if there\\'s anything else you\\'d like to adjust.', 'refusal': None, 'role': 'assistant', 'audio': None, 'function_call': None, 'tool_calls': None, 'name': 'buyer'}, {'role': 'assistant', 'name': 'offer', 'content': 'Provide prices and available discounts for ovens.'}, {'content': 'Here is the price and discount information for an oven:\\n\\n```json\\n{\\n  \"product\": \"oven\",\\n  \"price\": \"1000\",\\n  \"max_discount\": 0.25\\n}\\n```', 'refusal': None, 'role': 'assistant', 'audio': None, 'function_call': None, 'tool_calls': None, 'name': 'catalog'}, {'role': 'assistant', 'name': 'offer', 'content': 'Use the provided prices and discounts to create a professional offer for the new oven.'}, {'content': \"I understand you're looking for a better discount. To accommodate your request, I can offer you a 15% discount. This brings the price of the oven down to $850. Let me know if this works for you!\", 'refusal': None, 'role': 'assistant', 'audio': None, 'function_call': None, 'tool_calls': None, 'name': 'sales'}, {'role': 'assistant', 'name': 'offer', 'content': 'Provide feedback on the offer for the new oven.'}]\n",
      "DEBUG:vanilla_aiagents.agent:[Agent ID: buyer] Local messages prepared for API call (last 3): [{'role': 'assistant', 'name': 'offer', 'content': 'Use the provided prices and discounts to create a professional offer for the new oven.'}, {'content': \"I understand you're looking for a better discount. To accommodate your request, I can offer you a 15% discount. This brings the price of the oven down to $850. Let me know if this works for you!\", 'refusal': None, 'role': 'assistant', 'audio': None, 'function_call': None, 'tool_calls': None, 'name': 'sales'}, {'role': 'assistant', 'name': 'offer', 'content': 'Provide feedback on the offer for the new oven.'}]\n",
      "INFO:httpx:HTTP Request: POST https://ricchi-oai-sw.openai.azure.com//openai/deployments/gpt-4o/chat/completions?api-version=2024-08-01-preview \"HTTP/1.1 200 OK\"\n",
      "INFO:httpx:HTTP Request: POST https://ricchi-oai-sw.openai.azure.com//openai/deployments/gpt-4o/chat/completions?api-version=2024-08-01-preview \"HTTP/1.1 200 OK\"\n",
      "DEBUG:vanilla_aiagents.agent:[Agent ID: buyer] API response received: ChatCompletionMessage(content=\"The offer is acceptable, and the process is marked as complete. Let me know if there's anything else you'd like!\", refusal=None, role='assistant', audio=None, function_call=None, tool_calls=None)\n",
      "DEBUG:vanilla_aiagents.agent:[Agent ID: buyer] Response message: {'content': \"The offer is acceptable, and the process is marked as complete. Let me know if there's anything else you'd like!\", 'refusal': None, 'role': 'assistant', 'audio': None, 'function_call': None, 'tool_calls': None, 'name': 'buyer'}\n",
      "DEBUG:vanilla_aiagents.planned_team:[PlannedTeam offer] asked current agent with messages: done\n"
     ]
    },
    {
     "data": {
      "text/plain": [
       "'done'"
      ]
     },
     "execution_count": 67,
     "metadata": {},
     "output_type": "execute_result"
    }
   ],
   "source": [
    "workflow.restart()\n",
    "\n",
    "workflow.run(\"I want a new oven\")"
   ]
  },
  {
   "cell_type": "code",
   "execution_count": 68,
   "metadata": {},
   "outputs": [
    {
     "data": {
      "text/plain": [
       "[TeamPlanStep(agent_id='catalog', instructions='Provide prices and available discounts for ovens.'),\n",
       " TeamPlanStep(agent_id='sales', instructions='Use the provided prices and discounts to create a professional offer for the new oven.'),\n",
       " TeamPlanStep(agent_id='buyer', instructions='Provide feedback on the offer for the new oven.')]"
      ]
     },
     "execution_count": 68,
     "metadata": {},
     "output_type": "execute_result"
    }
   ],
   "source": [
    "flow.plan"
   ]
  },
  {
   "cell_type": "code",
   "execution_count": 69,
   "metadata": {},
   "outputs": [
    {
     "data": {
      "text/plain": [
       "[{'role': 'system', 'content': ''},\n",
       " {'role': 'user', 'name': 'user', 'content': 'I want a new oven'},\n",
       " {'role': 'assistant',\n",
       "  'name': 'offer',\n",
       "  'content': 'Provide prices and available discounts for ovens.'},\n",
       " {'content': 'Here is the price and discount information for an oven:\\n\\n```json\\n{\\n  \"product\": \"oven\",\\n  \"price\": \"1000\",\\n  \"max_discount\": 0.25\\n}\\n```',\n",
       "  'refusal': None,\n",
       "  'role': 'assistant',\n",
       "  'audio': None,\n",
       "  'function_call': None,\n",
       "  'tool_calls': None,\n",
       "  'name': 'catalog'},\n",
       " {'role': 'assistant',\n",
       "  'name': 'offer',\n",
       "  'content': 'Use the provided prices and discounts to create a professional offer for the new oven.'},\n",
       " {'content': \"The price of a new oven is $1,000. I can offer you a 10% discount, bringing the price down to $900. Let me know if you're ready to proceed or if you'd like to discuss further!\",\n",
       "  'refusal': None,\n",
       "  'role': 'assistant',\n",
       "  'audio': None,\n",
       "  'function_call': None,\n",
       "  'tool_calls': None,\n",
       "  'name': 'sales'},\n",
       " {'role': 'assistant',\n",
       "  'name': 'offer',\n",
       "  'content': 'Provide feedback on the offer for the new oven.'},\n",
       " {'content': 'I have provided feedback on the offer: \"I want a better discount.\" Let me know if there\\'s anything else you\\'d like to adjust.',\n",
       "  'refusal': None,\n",
       "  'role': 'assistant',\n",
       "  'audio': None,\n",
       "  'function_call': None,\n",
       "  'tool_calls': None,\n",
       "  'name': 'buyer'},\n",
       " {'role': 'assistant',\n",
       "  'name': 'offer',\n",
       "  'content': 'Provide prices and available discounts for ovens.'},\n",
       " {'content': 'Here is the price and discount information for an oven:\\n\\n```json\\n{\\n  \"product\": \"oven\",\\n  \"price\": \"1000\",\\n  \"max_discount\": 0.25\\n}\\n```',\n",
       "  'refusal': None,\n",
       "  'role': 'assistant',\n",
       "  'audio': None,\n",
       "  'function_call': None,\n",
       "  'tool_calls': None,\n",
       "  'name': 'catalog'},\n",
       " {'role': 'assistant',\n",
       "  'name': 'offer',\n",
       "  'content': 'Use the provided prices and discounts to create a professional offer for the new oven.'},\n",
       " {'content': \"I understand you're looking for a better discount. To accommodate your request, I can offer you a 15% discount. This brings the price of the oven down to $850. Let me know if this works for you!\",\n",
       "  'refusal': None,\n",
       "  'role': 'assistant',\n",
       "  'audio': None,\n",
       "  'function_call': None,\n",
       "  'tool_calls': None,\n",
       "  'name': 'sales'},\n",
       " {'role': 'assistant',\n",
       "  'name': 'offer',\n",
       "  'content': 'Provide feedback on the offer for the new oven.'},\n",
       " {'content': \"The offer is acceptable, and the process is marked as complete. Let me know if there's anything else you'd like!\",\n",
       "  'refusal': None,\n",
       "  'role': 'assistant',\n",
       "  'audio': None,\n",
       "  'function_call': None,\n",
       "  'tool_calls': None,\n",
       "  'name': 'buyer'}]"
      ]
     },
     "execution_count": 69,
     "metadata": {},
     "output_type": "execute_result"
    }
   ],
   "source": [
    "workflow.conversation.messages"
   ]
  }
 ],
 "metadata": {
  "kernelspec": {
   "display_name": ".conda",
   "language": "python",
   "name": "python3"
  },
  "language_info": {
   "codemirror_mode": {
    "name": "ipython",
    "version": 3
   },
   "file_extension": ".py",
   "mimetype": "text/x-python",
   "name": "python",
   "nbconvert_exporter": "python",
   "pygments_lexer": "ipython3",
   "version": "3.11.11"
  }
 },
 "nbformat": 4,
 "nbformat_minor": 2
}
